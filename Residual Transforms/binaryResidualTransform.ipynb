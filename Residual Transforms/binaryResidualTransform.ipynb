{
 "cells": [
  {
   "cell_type": "code",
   "execution_count": 39,
   "metadata": {},
   "outputs": [],
   "source": [
    "import numpy as np\n",
    "import anndata as ad\n",
    "import scanpy as sc\n",
    "from scipy.sparse import csr_matrix, issparse\n",
    "from tqdm import tqdm\n",
    "from multiprocessing import Pool\n",
    "\n",
    "from sklearn.linear_model import LogisticRegression"
   ]
  },
  {
   "cell_type": "code",
   "execution_count": 27,
   "metadata": {},
   "outputs": [],
   "source": [
    "adata = sc.read(\"adata_normalized_custom.h5ad\")\n",
    "adata.X = adata.layers[\"binarized\"]"
   ]
  },
  {
   "cell_type": "code",
   "execution_count": 28,
   "metadata": {},
   "outputs": [],
   "source": [
    "if issparse(adata.X):\n",
    "    if not adata.X.has_sorted_indices:\n",
    "        adata.X.sort_indices()"
   ]
  },
  {
   "cell_type": "code",
   "execution_count": 41,
   "metadata": {},
   "outputs": [
    {
     "name": "stderr",
     "output_type": "stream",
     "text": [
      "100%|██████████| 92653/92653 [05:24<00:00, 285.44it/s]\n"
     ]
    }
   ],
   "source": [
    "def process_column(i):\n",
    "    return np.asarray(np.squeeze(adata.X[:,i].toarray()))\n",
    "\n",
    "with Pool() as p:\n",
    "    y = list(tqdm(p.imap(process_column, range(adata.X.shape[1])), total=adata.X.shape[1]))\n",
    "y = np.array(y)"
   ]
  },
  {
   "cell_type": "code",
   "execution_count": 43,
   "metadata": {},
   "outputs": [
    {
     "name": "stderr",
     "output_type": "stream",
     "text": [
      "100%|██████████| 92653/92653 [00:42<00:00, 2162.98it/s]\n"
     ]
    }
   ],
   "source": [
    "X = np.asarray(np.sum(adata.X, axis = 1)).astype(float)\n",
    "X_res = np.zeros(adata.X.shape)\n",
    "\n",
    "def process_column_2(i):\n",
    "    model = LogisticRegression(solver='liblinear', warm_start = True).fit(X = X,y = y[i])\n",
    "    return y[i] - model.predict_proba(X)[:,1]\n",
    "\n",
    "with Pool() as p:\n",
    "    X_res = np.array(list(tqdm(p.imap(process_column_2, range(adata.X.shape[1])), total=adata.X.shape[1]))).T"
   ]
  },
  {
   "cell_type": "code",
   "execution_count": 45,
   "metadata": {},
   "outputs": [],
   "source": [
    "adata.layers[\"binary_residual\"] = X_res"
   ]
  },
  {
   "cell_type": "code",
   "execution_count": 46,
   "metadata": {},
   "outputs": [],
   "source": [
    "adata.write(\"adata_custom_v2.h5ad\")"
   ]
  }
 ],
 "metadata": {
  "kernelspec": {
   "display_name": "residTransform",
   "language": "python",
   "name": "python3"
  },
  "language_info": {
   "codemirror_mode": {
    "name": "ipython",
    "version": 3
   },
   "file_extension": ".py",
   "mimetype": "text/x-python",
   "name": "python",
   "nbconvert_exporter": "python",
   "pygments_lexer": "ipython3",
   "version": "3.10.8 | packaged by conda-forge | (main, Nov 22 2022, 08:26:04) [GCC 10.4.0]"
  },
  "orig_nbformat": 4,
  "vscode": {
   "interpreter": {
    "hash": "49758b44edec2beee5573c70f4fbd8fd5a5f6d253c8ad1e5957e9d7019d548ec"
   }
  }
 },
 "nbformat": 4,
 "nbformat_minor": 2
}
