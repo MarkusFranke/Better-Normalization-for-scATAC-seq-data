{
 "cells": [
  {
   "cell_type": "code",
   "execution_count": 1,
   "metadata": {},
   "outputs": [],
   "source": [
    "import numpy as np\n",
    "import anndata as ad\n",
    "import scanpy as sc\n",
    "from scipy.sparse import csr_matrix, issparse\n",
    "\n",
    "from sklearn.linear_model import LogisticRegression"
   ]
  },
  {
   "cell_type": "code",
   "execution_count": 2,
   "metadata": {},
   "outputs": [],
   "source": [
    "adata = sc.read(\"adata_normalized_custom.h5ad\")\n",
    "adata.X = adata.layers[\"binarized\"]"
   ]
  },
  {
   "cell_type": "code",
   "execution_count": 3,
   "metadata": {},
   "outputs": [],
   "source": [
    "if issparse(adata.X):\n",
    "    if not adata.X.has_sorted_indices:\n",
    "        adata.X.sort_indices()"
   ]
  },
  {
   "attachments": {},
   "cell_type": "markdown",
   "metadata": {},
   "source": [
    "This could really use some optimization: (maybe parallelization) (took me 72min to run)"
   ]
  },
  {
   "cell_type": "code",
   "execution_count": 25,
   "metadata": {},
   "outputs": [
    {
     "name": "stdout",
     "output_type": "stream",
     "text": [
      "Progress: 500 out of 92653\n",
      "Progress: 1000 out of 92653\n",
      "Progress: 1500 out of 92653\n",
      "Progress: 2000 out of 92653\n",
      "Progress: 2500 out of 92653\n",
      "Progress: 3000 out of 92653\n",
      "Progress: 3500 out of 92653\n",
      "Progress: 4000 out of 92653\n",
      "Progress: 4500 out of 92653\n",
      "Progress: 5000 out of 92653\n",
      "Progress: 5500 out of 92653\n",
      "Progress: 6000 out of 92653\n",
      "Progress: 6500 out of 92653\n",
      "Progress: 7000 out of 92653\n",
      "Progress: 7500 out of 92653\n",
      "Progress: 8000 out of 92653\n",
      "Progress: 8500 out of 92653\n",
      "Progress: 9000 out of 92653\n",
      "Progress: 9500 out of 92653\n",
      "Progress: 10000 out of 92653\n",
      "Progress: 10500 out of 92653\n",
      "Progress: 11000 out of 92653\n",
      "Progress: 11500 out of 92653\n",
      "Progress: 12000 out of 92653\n",
      "Progress: 12500 out of 92653\n",
      "Progress: 13000 out of 92653\n",
      "Progress: 13500 out of 92653\n",
      "Progress: 14000 out of 92653\n",
      "Progress: 14500 out of 92653\n",
      "Progress: 15000 out of 92653\n",
      "Progress: 15500 out of 92653\n",
      "Progress: 16000 out of 92653\n",
      "Progress: 16500 out of 92653\n",
      "Progress: 17000 out of 92653\n",
      "Progress: 17500 out of 92653\n",
      "Progress: 18000 out of 92653\n",
      "Progress: 18500 out of 92653\n",
      "Progress: 19000 out of 92653\n",
      "Progress: 19500 out of 92653\n",
      "Progress: 20000 out of 92653\n",
      "Progress: 20500 out of 92653\n",
      "Progress: 21000 out of 92653\n",
      "Progress: 21500 out of 92653\n",
      "Progress: 22000 out of 92653\n",
      "Progress: 22500 out of 92653\n",
      "Progress: 23000 out of 92653\n",
      "Progress: 23500 out of 92653\n",
      "Progress: 24000 out of 92653\n",
      "Progress: 24500 out of 92653\n",
      "Progress: 25000 out of 92653\n",
      "Progress: 25500 out of 92653\n",
      "Progress: 26000 out of 92653\n",
      "Progress: 26500 out of 92653\n",
      "Progress: 27000 out of 92653\n",
      "Progress: 27500 out of 92653\n",
      "Progress: 28000 out of 92653\n",
      "Progress: 28500 out of 92653\n",
      "Progress: 29000 out of 92653\n",
      "Progress: 29500 out of 92653\n",
      "Progress: 30000 out of 92653\n",
      "Progress: 30500 out of 92653\n",
      "Progress: 31000 out of 92653\n",
      "Progress: 31500 out of 92653\n",
      "Progress: 32000 out of 92653\n",
      "Progress: 32500 out of 92653\n",
      "Progress: 33000 out of 92653\n",
      "Progress: 33500 out of 92653\n",
      "Progress: 34000 out of 92653\n",
      "Progress: 34500 out of 92653\n",
      "Progress: 35000 out of 92653\n",
      "Progress: 35500 out of 92653\n",
      "Progress: 36000 out of 92653\n",
      "Progress: 36500 out of 92653\n",
      "Progress: 37000 out of 92653\n",
      "Progress: 37500 out of 92653\n",
      "Progress: 38000 out of 92653\n",
      "Progress: 38500 out of 92653\n",
      "Progress: 39000 out of 92653\n",
      "Progress: 39500 out of 92653\n",
      "Progress: 40000 out of 92653\n",
      "Progress: 40500 out of 92653\n",
      "Progress: 41000 out of 92653\n",
      "Progress: 41500 out of 92653\n",
      "Progress: 42000 out of 92653\n",
      "Progress: 42500 out of 92653\n",
      "Progress: 43000 out of 92653\n",
      "Progress: 43500 out of 92653\n",
      "Progress: 44000 out of 92653\n",
      "Progress: 44500 out of 92653\n",
      "Progress: 45000 out of 92653\n",
      "Progress: 45500 out of 92653\n",
      "Progress: 46000 out of 92653\n",
      "Progress: 46500 out of 92653\n",
      "Progress: 47000 out of 92653\n",
      "Progress: 47500 out of 92653\n",
      "Progress: 48000 out of 92653\n",
      "Progress: 48500 out of 92653\n",
      "Progress: 49000 out of 92653\n",
      "Progress: 49500 out of 92653\n",
      "Progress: 50000 out of 92653\n",
      "Progress: 50500 out of 92653\n",
      "Progress: 51000 out of 92653\n",
      "Progress: 51500 out of 92653\n",
      "Progress: 52000 out of 92653\n",
      "Progress: 52500 out of 92653\n",
      "Progress: 53000 out of 92653\n",
      "Progress: 53500 out of 92653\n",
      "Progress: 54000 out of 92653\n",
      "Progress: 54500 out of 92653\n",
      "Progress: 55000 out of 92653\n",
      "Progress: 55500 out of 92653\n",
      "Progress: 56000 out of 92653\n",
      "Progress: 56500 out of 92653\n",
      "Progress: 57000 out of 92653\n",
      "Progress: 57500 out of 92653\n",
      "Progress: 58000 out of 92653\n",
      "Progress: 58500 out of 92653\n",
      "Progress: 59000 out of 92653\n",
      "Progress: 59500 out of 92653\n",
      "Progress: 60000 out of 92653\n",
      "Progress: 60500 out of 92653\n",
      "Progress: 61000 out of 92653\n",
      "Progress: 61500 out of 92653\n",
      "Progress: 62000 out of 92653\n",
      "Progress: 62500 out of 92653\n",
      "Progress: 63000 out of 92653\n",
      "Progress: 63500 out of 92653\n",
      "Progress: 64000 out of 92653\n",
      "Progress: 64500 out of 92653\n",
      "Progress: 65000 out of 92653\n",
      "Progress: 65500 out of 92653\n",
      "Progress: 66000 out of 92653\n",
      "Progress: 66500 out of 92653\n",
      "Progress: 67000 out of 92653\n",
      "Progress: 67500 out of 92653\n",
      "Progress: 68000 out of 92653\n",
      "Progress: 68500 out of 92653\n",
      "Progress: 69000 out of 92653\n",
      "Progress: 69500 out of 92653\n",
      "Progress: 70000 out of 92653\n",
      "Progress: 70500 out of 92653\n",
      "Progress: 71000 out of 92653\n",
      "Progress: 71500 out of 92653\n",
      "Progress: 72000 out of 92653\n",
      "Progress: 72500 out of 92653\n",
      "Progress: 73000 out of 92653\n",
      "Progress: 73500 out of 92653\n",
      "Progress: 74000 out of 92653\n",
      "Progress: 74500 out of 92653\n",
      "Progress: 75000 out of 92653\n",
      "Progress: 75500 out of 92653\n",
      "Progress: 76000 out of 92653\n",
      "Progress: 76500 out of 92653\n",
      "Progress: 77000 out of 92653\n",
      "Progress: 77500 out of 92653\n",
      "Progress: 78000 out of 92653\n",
      "Progress: 78500 out of 92653\n",
      "Progress: 79000 out of 92653\n",
      "Progress: 79500 out of 92653\n",
      "Progress: 80000 out of 92653\n",
      "Progress: 80500 out of 92653\n",
      "Progress: 81000 out of 92653\n",
      "Progress: 81500 out of 92653\n",
      "Progress: 82000 out of 92653\n",
      "Progress: 82500 out of 92653\n",
      "Progress: 83000 out of 92653\n",
      "Progress: 83500 out of 92653\n",
      "Progress: 84000 out of 92653\n",
      "Progress: 84500 out of 92653\n",
      "Progress: 85000 out of 92653\n",
      "Progress: 85500 out of 92653\n",
      "Progress: 86000 out of 92653\n",
      "Progress: 86500 out of 92653\n",
      "Progress: 87000 out of 92653\n",
      "Progress: 87500 out of 92653\n",
      "Progress: 88000 out of 92653\n",
      "Progress: 88500 out of 92653\n",
      "Progress: 89000 out of 92653\n",
      "Progress: 89500 out of 92653\n",
      "Progress: 90000 out of 92653\n",
      "Progress: 90500 out of 92653\n",
      "Progress: 91000 out of 92653\n",
      "Progress: 91500 out of 92653\n",
      "Progress: 92000 out of 92653\n",
      "Progress: 92500 out of 92653\n"
     ]
    }
   ],
   "source": [
    "X_res = np.zeros(adata.X.shape)\n",
    "\n",
    "for i in range(adata.X.shape[1]):\n",
    "    y = np.asarray(np.squeeze(adata.X[:,i].toarray()))\n",
    "    model = LogisticRegression(solver='newton-cholesky', warm_start = True).fit(X = X,y = y)\n",
    "    X_res[:,i] = y - model.predict_proba(X)[:,1]\n",
    "    if 0 == (i+1) % 500:\n",
    "        print(f'Progress: {i+1} out of {adata.X.shape[1]}')\n"
   ]
  },
  {
   "cell_type": "code",
   "execution_count": 26,
   "metadata": {},
   "outputs": [],
   "source": [
    "adata.layers[\"binary_residual\"] = X_res"
   ]
  },
  {
   "cell_type": "code",
   "execution_count": 27,
   "metadata": {},
   "outputs": [],
   "source": [
    "adata.write(\"adata_custom_v2.h5ad\")"
   ]
  },
  {
   "cell_type": "code",
   "execution_count": null,
   "metadata": {},
   "outputs": [],
   "source": []
  },
  {
   "cell_type": "code",
   "execution_count": null,
   "metadata": {},
   "outputs": [],
   "source": []
  },
  {
   "cell_type": "code",
   "execution_count": null,
   "metadata": {},
   "outputs": [],
   "source": []
  },
  {
   "cell_type": "code",
   "execution_count": null,
   "metadata": {},
   "outputs": [],
   "source": []
  },
  {
   "cell_type": "code",
   "execution_count": null,
   "metadata": {},
   "outputs": [],
   "source": []
  },
  {
   "cell_type": "code",
   "execution_count": null,
   "metadata": {},
   "outputs": [],
   "source": []
  },
  {
   "cell_type": "code",
   "execution_count": null,
   "metadata": {},
   "outputs": [],
   "source": []
  },
  {
   "cell_type": "code",
   "execution_count": null,
   "metadata": {},
   "outputs": [],
   "source": []
  },
  {
   "cell_type": "code",
   "execution_count": 24,
   "metadata": {},
   "outputs": [
    {
     "data": {
      "text/plain": [
       "92653"
      ]
     },
     "execution_count": 24,
     "metadata": {},
     "output_type": "execute_result"
    }
   ],
   "source": [
    "adata.X.shape[1]"
   ]
  },
  {
   "cell_type": "code",
   "execution_count": 10,
   "metadata": {},
   "outputs": [
    {
     "data": {
      "text/plain": [
       "(3683,)"
      ]
     },
     "execution_count": 10,
     "metadata": {},
     "output_type": "execute_result"
    }
   ],
   "source": [
    "np.asarray(np.squeeze(adata.X[:,i].toarray())).shape\n"
   ]
  },
  {
   "cell_type": "code",
   "execution_count": 15,
   "metadata": {},
   "outputs": [
    {
     "data": {
      "text/plain": [
       "(3683,)"
      ]
     },
     "execution_count": 15,
     "metadata": {},
     "output_type": "execute_result"
    }
   ],
   "source": [
    "model.predict_proba(X)[:,1].shape"
   ]
  },
  {
   "cell_type": "code",
   "execution_count": 18,
   "metadata": {},
   "outputs": [
    {
     "data": {
      "text/plain": [
       "(3683,)"
      ]
     },
     "execution_count": 18,
     "metadata": {},
     "output_type": "execute_result"
    }
   ],
   "source": [
    "X_res[:,3000].shape"
   ]
  },
  {
   "cell_type": "code",
   "execution_count": 8,
   "metadata": {},
   "outputs": [
    {
     "data": {
      "text/plain": [
       "array([[0., 0., 0., 0., 0., 0., 0., 0., 0.],\n",
       "       [0., 0., 0., 0., 0., 0., 0., 0., 0.],\n",
       "       [0., 0., 0., 0., 0., 0., 0., 0., 0.],\n",
       "       [0., 0., 0., 0., 0., 0., 0., 0., 0.]])"
      ]
     },
     "execution_count": 8,
     "metadata": {},
     "output_type": "execute_result"
    }
   ],
   "source": [
    "X_res[3000:3004,50000:50009]"
   ]
  },
  {
   "cell_type": "code",
   "execution_count": 12,
   "metadata": {},
   "outputs": [
    {
     "data": {
      "text/plain": [
       "array([[ 5563.],\n",
       "       [ 2238.],\n",
       "       [14162.],\n",
       "       [ 9509.]])"
      ]
     },
     "execution_count": 12,
     "metadata": {},
     "output_type": "execute_result"
    }
   ],
   "source": [
    "X[3000:3004]"
   ]
  },
  {
   "cell_type": "code",
   "execution_count": null,
   "metadata": {},
   "outputs": [
    {
     "data": {
      "text/plain": [
       "(92653, 1)"
      ]
     },
     "execution_count": 18,
     "metadata": {},
     "output_type": "execute_result"
    }
   ],
   "source": [
    "X = np.asarray(np.sum(adata.X, axis = 0)).astype(float)\n",
    "X_T = X.T\n",
    "X_T.shape"
   ]
  },
  {
   "cell_type": "code",
   "execution_count": null,
   "metadata": {},
   "outputs": [
    {
     "data": {
      "text/plain": [
       "(92653,)"
      ]
     },
     "execution_count": 16,
     "metadata": {},
     "output_type": "execute_result"
    }
   ],
   "source": [
    "i = 1\n",
    "y = np.asarray(np.squeeze(adata.X[i,:].toarray()))\n",
    "y.shape"
   ]
  },
  {
   "cell_type": "code",
   "execution_count": null,
   "metadata": {},
   "outputs": [
    {
     "data": {
      "text/plain": [
       "(3683,)"
      ]
     },
     "execution_count": 27,
     "metadata": {},
     "output_type": "execute_result"
    }
   ],
   "source": [
    "np.asarray(np.squeeze(adata.X[:,1].toarray())).shape"
   ]
  },
  {
   "cell_type": "code",
   "execution_count": null,
   "metadata": {},
   "outputs": [
    {
     "name": "stdout",
     "output_type": "stream",
     "text": [
      "Progress: 500 out of (92653,)\n",
      "Progress: 1000 out of (92653,)\n",
      "Progress: 1500 out of (92653,)\n",
      "Progress: 2000 out of (92653,)\n",
      "Progress: 2500 out of (92653,)\n",
      "Progress: 3000 out of (92653,)\n",
      "Progress: 3500 out of (92653,)\n"
     ]
    },
    {
     "ename": "IndexError",
     "evalue": "row index (3683) out of range",
     "output_type": "error",
     "traceback": [
      "\u001b[0;31m---------------------------------------------------------------------------\u001b[0m",
      "\u001b[0;31mIndexError\u001b[0m                                Traceback (most recent call last)",
      "Cell \u001b[0;32mIn[22], line 4\u001b[0m\n\u001b[1;32m      1\u001b[0m X_res_T \u001b[39m=\u001b[39m np\u001b[39m.\u001b[39mzeros((adata\u001b[39m.\u001b[39mX)\u001b[39m.\u001b[39mT\u001b[39m.\u001b[39mshape)\n\u001b[1;32m      3\u001b[0m \u001b[39mfor\u001b[39;00m i \u001b[39min\u001b[39;00m \u001b[39mrange\u001b[39m(adata\u001b[39m.\u001b[39mX\u001b[39m.\u001b[39mshape[\u001b[39m1\u001b[39m]):\n\u001b[0;32m----> 4\u001b[0m     y \u001b[39m=\u001b[39m np\u001b[39m.\u001b[39masarray(np\u001b[39m.\u001b[39msqueeze(adata\u001b[39m.\u001b[39;49mX[i,:]\u001b[39m.\u001b[39mtoarray()))\n\u001b[1;32m      5\u001b[0m     model \u001b[39m=\u001b[39m LogisticRegression(solver\u001b[39m=\u001b[39m\u001b[39m'\u001b[39m\u001b[39mnewton-cholesky\u001b[39m\u001b[39m'\u001b[39m, warm_start \u001b[39m=\u001b[39m \u001b[39mTrue\u001b[39;00m)\u001b[39m.\u001b[39mfit(X \u001b[39m=\u001b[39m X_T,y \u001b[39m=\u001b[39m y)\n\u001b[1;32m      6\u001b[0m     X_res_T[:,i] \u001b[39m=\u001b[39m y \u001b[39m-\u001b[39m model\u001b[39m.\u001b[39mpredict_proba(X_T)[:,\u001b[39m1\u001b[39m]\n",
      "File \u001b[0;32m~/miniconda3/envs/residTransform/lib/python3.10/site-packages/scipy/sparse/_index.py:47\u001b[0m, in \u001b[0;36mIndexMixin.__getitem__\u001b[0;34m(self, key)\u001b[0m\n\u001b[1;32m     46\u001b[0m \u001b[39mdef\u001b[39;00m \u001b[39m__getitem__\u001b[39m(\u001b[39mself\u001b[39m, key):\n\u001b[0;32m---> 47\u001b[0m     row, col \u001b[39m=\u001b[39m \u001b[39mself\u001b[39;49m\u001b[39m.\u001b[39;49m_validate_indices(key)\n\u001b[1;32m     49\u001b[0m     \u001b[39m# Dispatch to specialized methods.\u001b[39;00m\n\u001b[1;32m     50\u001b[0m     \u001b[39mif\u001b[39;00m \u001b[39misinstance\u001b[39m(row, INT_TYPES):\n",
      "File \u001b[0;32m~/miniconda3/envs/residTransform/lib/python3.10/site-packages/scipy/sparse/_index.py:155\u001b[0m, in \u001b[0;36mIndexMixin._validate_indices\u001b[0;34m(self, key)\u001b[0m\n\u001b[1;32m    153\u001b[0m row \u001b[39m=\u001b[39m \u001b[39mint\u001b[39m(row)\n\u001b[1;32m    154\u001b[0m \u001b[39mif\u001b[39;00m row \u001b[39m<\u001b[39m \u001b[39m-\u001b[39mM \u001b[39mor\u001b[39;00m row \u001b[39m>\u001b[39m\u001b[39m=\u001b[39m M:\n\u001b[0;32m--> 155\u001b[0m     \u001b[39mraise\u001b[39;00m \u001b[39mIndexError\u001b[39;00m(\u001b[39m'\u001b[39m\u001b[39mrow index (\u001b[39m\u001b[39m%d\u001b[39;00m\u001b[39m) out of range\u001b[39m\u001b[39m'\u001b[39m \u001b[39m%\u001b[39m row)\n\u001b[1;32m    156\u001b[0m \u001b[39mif\u001b[39;00m row \u001b[39m<\u001b[39m \u001b[39m0\u001b[39m:\n\u001b[1;32m    157\u001b[0m     row \u001b[39m+\u001b[39m\u001b[39m=\u001b[39m M\n",
      "\u001b[0;31mIndexError\u001b[0m: row index (3683) out of range"
     ]
    }
   ],
   "source": [
    "X_res_T = np.zeros((adata.X).T.shape)\n",
    "\n",
    "for i in range(adata.X.shape[1]):\n",
    "    y = np.asarray(np.squeeze(adata.X[:,i].toarray()))\n",
    "    model = LogisticRegression(solver='newton-cholesky', warm_start = True).fit(X = X_T,y = y)\n",
    "    X_res_T[:,i] = y - model.predict_proba(X_T)[:,1]\n",
    "    if 0 == (i+1) % 500:\n",
    "        print(f'Progress: {i+1} out of {X_res_T[:,1].shape}')\n"
   ]
  },
  {
   "cell_type": "code",
   "execution_count": null,
   "metadata": {},
   "outputs": [],
   "source": [
    "adata.layers[\"binary_residual_for_cells\"] = csr_matrix(X_res)\n",
    "adata.layers[\"binary_residual_for_reads\"] = csr_matrix(X_res_T)"
   ]
  },
  {
   "cell_type": "code",
   "execution_count": null,
   "metadata": {},
   "outputs": [],
   "source": [
    "adata.write(\"adata_custom_v2.h5ad\")"
   ]
  },
  {
   "cell_type": "code",
   "execution_count": null,
   "metadata": {},
   "outputs": [],
   "source": []
  }
 ],
 "metadata": {
  "kernelspec": {
   "display_name": "residTransform",
   "language": "python",
   "name": "python3"
  },
  "language_info": {
   "codemirror_mode": {
    "name": "ipython",
    "version": 3
   },
   "file_extension": ".py",
   "mimetype": "text/x-python",
   "name": "python",
   "nbconvert_exporter": "python",
   "pygments_lexer": "ipython3",
   "version": "3.10.8"
  },
  "orig_nbformat": 4,
  "vscode": {
   "interpreter": {
    "hash": "49758b44edec2beee5573c70f4fbd8fd5a5f6d253c8ad1e5957e9d7019d548ec"
   }
  }
 },
 "nbformat": 4,
 "nbformat_minor": 2
}
