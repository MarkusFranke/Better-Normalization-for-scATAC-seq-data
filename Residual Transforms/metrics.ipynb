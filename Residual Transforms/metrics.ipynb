{
 "cells": [
  {
   "cell_type": "code",
   "execution_count": 1,
   "metadata": {},
   "outputs": [
    {
     "name": "stderr",
     "output_type": "stream",
     "text": [
      "/home/ubuntu/miniconda3/envs/residTransform/lib/python3.10/site-packages/episcanpy/preprocessing/_quality_control.py:11: DeprecationWarning: Please use `pearsonr` from the `scipy.stats` namespace, the `scipy.stats.stats` namespace is deprecated.\n",
      "  from scipy.stats.stats import pearsonr, spearmanr\n",
      "/home/ubuntu/miniconda3/envs/residTransform/lib/python3.10/site-packages/episcanpy/preprocessing/_quality_control.py:11: DeprecationWarning: Please use `spearmanr` from the `scipy.stats` namespace, the `scipy.stats.stats` namespace is deprecated.\n",
      "  from scipy.stats.stats import pearsonr, spearmanr\n",
      "/home/ubuntu/miniconda3/envs/residTransform/lib/python3.10/site-packages/episcanpy/preprocessing/_correlation_components.py:12: DeprecationWarning: Please use `pearsonr` from the `scipy.stats` namespace, the `scipy.stats.stats` namespace is deprecated.\n",
      "  from scipy.stats.stats import pearsonr, spearmanr\n",
      "/home/ubuntu/miniconda3/envs/residTransform/lib/python3.10/site-packages/episcanpy/preprocessing/_correlation_components.py:12: DeprecationWarning: Please use `spearmanr` from the `scipy.stats` namespace, the `scipy.stats.stats` namespace is deprecated.\n",
      "  from scipy.stats.stats import pearsonr, spearmanr\n"
     ]
    }
   ],
   "source": [
    "from metrics import apply_metrics, ARI, Silhouette\n",
    "import anndata as ad\n",
    "import episcanpy as epi\n",
    "import scanpy as sc"
   ]
  },
  {
   "cell_type": "code",
   "execution_count": 2,
   "metadata": {},
   "outputs": [],
   "source": [
    "adata = sc.read(\"adata_normalized_custom.h5ad\")"
   ]
  },
  {
   "attachments": {},
   "cell_type": "markdown",
   "metadata": {},
   "source": [
    "Crashes when we copy adata >=6 times:"
   ]
  },
  {
   "cell_type": "code",
   "execution_count": 3,
   "metadata": {},
   "outputs": [],
   "source": [
    "adata.X = adata.layers[\"raw_fragments\"]\n",
    "adata_raw = adata.copy()\n",
    "adata.X = adata.layers[\"epi_normalized\"]\n",
    "adata_lib = adata.copy()\n",
    "adata.X = adata.layers[\"scran_normalization\"]\n",
    "adata_scran = adata.copy()"
   ]
  },
  {
   "attachments": {},
   "cell_type": "markdown",
   "metadata": {},
   "source": [
    "optimal score: 0.7007868784383451\n",
    "optimal score: 0.7102339436020901 0.4749587834887124 "
   ]
  },
  {
   "cell_type": "code",
   "execution_count": 5,
   "metadata": {},
   "outputs": [
    {
     "name": "stdout",
     "output_type": "stream",
     "text": [
      "PCA\n",
      "Nearest Neigbours\n",
      "UMAP\n",
      "resolution: 0.1, nmi: 0.48492675063640556\n",
      "resolution: 0.2, nmi: 0.5481680424707099\n",
      "resolution: 0.3, nmi: 0.5747443194365881\n",
      "resolution: 0.4, nmi: 0.5739520059518369\n",
      "resolution: 0.5, nmi: 0.5769294132257823\n",
      "resolution: 0.6, nmi: 0.5857370081126193\n",
      "resolution: 0.7, nmi: 0.5880595723231044\n",
      "resolution: 0.8, nmi: 0.580189855891517\n",
      "resolution: 0.9, nmi: 0.582417063669107\n",
      "resolution: 1.0, nmi: 0.5773531118199318\n",
      "resolution: 1.1, nmi: 0.5705885604563797\n",
      "resolution: 1.2, nmi: 0.5604168837479385\n",
      "resolution: 1.3, nmi: 0.5630898055816532\n",
      "resolution: 1.4, nmi: 0.5627496745149478\n",
      "resolution: 1.5, nmi: 0.5628588070434275\n",
      "resolution: 1.6, nmi: 0.5695129016446374\n",
      "resolution: 1.7, nmi: 0.5648364527763818\n",
      "resolution: 1.8, nmi: 0.5574342391946151\n",
      "resolution: 1.9, nmi: 0.5545020516223115\n",
      "resolution: 2.0, nmi: 0.5551219391402505\n",
      "optimised clustering against cell_type\n",
      "optimal cluster resolution: 0.7\n",
      "optimal score: 0.5880595723231044\n",
      "PCA\n",
      "Nearest Neigbours\n",
      "UMAP\n",
      "resolution: 0.1, nmi: 0.5915408859372572\n",
      "resolution: 0.2, nmi: 0.6514007125980048\n",
      "resolution: 0.3, nmi: 0.6910980182234179\n",
      "resolution: 0.4, nmi: 0.6873242123235926\n",
      "resolution: 0.5, nmi: 0.6894270402610863\n",
      "resolution: 0.6, nmi: 0.6903687601603692\n",
      "resolution: 0.7, nmi: 0.6941352674571757\n",
      "resolution: 0.8, nmi: 0.6922595391887169\n",
      "resolution: 0.9, nmi: 0.7007868784383451\n",
      "resolution: 1.0, nmi: 0.6911438661546223\n",
      "resolution: 1.1, nmi: 0.6923190148688353\n",
      "resolution: 1.2, nmi: 0.6893923421695862\n",
      "resolution: 1.3, nmi: 0.6927552747646\n",
      "resolution: 1.4, nmi: 0.6824806116974143\n",
      "resolution: 1.5, nmi: 0.6842188133937747\n",
      "resolution: 1.6, nmi: 0.6812750217970164\n",
      "resolution: 1.7, nmi: 0.6830031270446464\n",
      "resolution: 1.8, nmi: 0.6702358635352841\n",
      "resolution: 1.9, nmi: 0.664659404457525\n",
      "resolution: 2.0, nmi: 0.659324601727295\n",
      "optimised clustering against cell_type\n",
      "optimal cluster resolution: 0.9\n",
      "optimal score: 0.7007868784383451\n",
      "PCA\n",
      "Nearest Neigbours\n",
      "UMAP\n",
      "resolution: 0.1, nmi: 0.5361955188079156\n",
      "resolution: 0.2, nmi: 0.5756500693378725\n",
      "resolution: 0.3, nmi: 0.5879303372261689\n",
      "resolution: 0.4, nmi: 0.5909549287654213\n",
      "resolution: 0.5, nmi: 0.5816785170354123\n",
      "resolution: 0.6, nmi: 0.5996053577400923\n",
      "resolution: 0.7, nmi: 0.6205813283184155\n",
      "resolution: 0.8, nmi: 0.6152874657422102\n",
      "resolution: 0.9, nmi: 0.607958801353897\n",
      "resolution: 1.0, nmi: 0.5990681983300457\n",
      "resolution: 1.1, nmi: 0.5939627574741481\n",
      "resolution: 1.2, nmi: 0.5890150669668862\n",
      "resolution: 1.3, nmi: 0.5836516689021901\n",
      "resolution: 1.4, nmi: 0.5846573062586743\n",
      "resolution: 1.5, nmi: 0.5884735517116032\n",
      "resolution: 1.6, nmi: 0.5828377827642574\n",
      "resolution: 1.7, nmi: 0.5693512545636906\n",
      "resolution: 1.8, nmi: 0.5746849902711407\n",
      "resolution: 1.9, nmi: 0.5756921560907459\n",
      "resolution: 2.0, nmi: 0.576819399565418\n",
      "optimised clustering against cell_type\n",
      "optimal cluster resolution: 0.7\n",
      "optimal score: 0.6205813283184155\n"
     ]
    },
    {
     "data": {
      "text/plain": [
       "defaultdict(list,\n",
       "            {'Average Silhouette Width': [0.465872909873724,\n",
       "              0.5562098249793053,\n",
       "              0.4891014276072383],\n",
       "             'Adjusted Rand Index': [0.2930638604235481,\n",
       "              0.46004291920700996,\n",
       "              0.3635065226944086]})"
      ]
     },
     "execution_count": 5,
     "metadata": {},
     "output_type": "execute_result"
    }
   ],
   "source": [
    "apply_metrics([Silhouette(), ARI()], [adata_raw, adata_lib, adata_scran], \"cell_type\")"
   ]
  },
  {
   "cell_type": "code",
   "execution_count": 6,
   "metadata": {},
   "outputs": [],
   "source": [
    "del adata_raw, adata_lib, adata_scran"
   ]
  },
  {
   "cell_type": "code",
   "execution_count": 3,
   "metadata": {},
   "outputs": [],
   "source": [
    "adata.X = adata.layers[\"scTransform_normalization\"]\n",
    "adata_sct = adata.copy()\n",
    "adata.X = adata.layers[\"scTransform_normalization_v2\"]\n",
    "adata_sct2 = adata.copy()\n",
    "adata.X = adata.layers[\"scTransform_normalization_c1\"]\n",
    "adata_sct_c1 = adata.copy()"
   ]
  },
  {
   "cell_type": "code",
   "execution_count": 5,
   "metadata": {},
   "outputs": [
    {
     "name": "stdout",
     "output_type": "stream",
     "text": [
      "PCA\n",
      "Nearest Neigbours\n",
      "UMAP\n",
      "resolution: 0.1, nmi: 0.6429361395954843\n",
      "resolution: 0.2, nmi: 0.671696444839676\n",
      "resolution: 0.3, nmi: 0.691878555195248\n",
      "resolution: 0.4, nmi: 0.6913015004602888\n",
      "resolution: 0.5, nmi: 0.697739303043712\n",
      "resolution: 0.6, nmi: 0.7065060479276088\n",
      "resolution: 0.7, nmi: 0.7052912077834385\n",
      "resolution: 0.8, nmi: 0.6848891376434703\n",
      "resolution: 0.9, nmi: 0.6836420389102917\n",
      "resolution: 1.0, nmi: 0.6717292701633055\n",
      "resolution: 1.1, nmi: 0.6642344681618804\n",
      "resolution: 1.2, nmi: 0.6710610040531669\n",
      "resolution: 1.3, nmi: 0.6691751838933526\n",
      "resolution: 1.4, nmi: 0.6586626011745801\n",
      "resolution: 1.5, nmi: 0.65859007728901\n",
      "resolution: 1.6, nmi: 0.6513617063073065\n",
      "resolution: 1.7, nmi: 0.6594686309672343\n",
      "resolution: 1.8, nmi: 0.6626927675319613\n",
      "resolution: 1.9, nmi: 0.6478636844768705\n",
      "resolution: 2.0, nmi: 0.649054377467461\n",
      "optimised clustering against cell_type\n",
      "optimal cluster resolution: 0.6\n",
      "optimal score: 0.7065060479276088\n",
      "PCA\n",
      "Nearest Neigbours\n",
      "UMAP\n",
      "resolution: 0.1, nmi: 0.6623972456768454\n",
      "resolution: 0.2, nmi: 0.6587130057557048\n",
      "resolution: 0.3, nmi: 0.6885107016734011\n",
      "resolution: 0.4, nmi: 0.7025492163342784\n",
      "resolution: 0.5, nmi: 0.6926625734951808\n",
      "resolution: 0.6, nmi: 0.6753211502304803\n",
      "resolution: 0.7, nmi: 0.6838190751111344\n",
      "resolution: 0.8, nmi: 0.6919698492941094\n",
      "resolution: 0.9, nmi: 0.6664709828704579\n",
      "resolution: 1.0, nmi: 0.6778072012985101\n",
      "resolution: 1.1, nmi: 0.6663142154837949\n",
      "resolution: 1.2, nmi: 0.6665787734324131\n",
      "resolution: 1.3, nmi: 0.6658383662537936\n",
      "resolution: 1.4, nmi: 0.6448419092077017\n",
      "resolution: 1.5, nmi: 0.6557476221795909\n",
      "resolution: 1.6, nmi: 0.6528558074734024\n",
      "resolution: 1.7, nmi: 0.6432789310679659\n",
      "resolution: 1.8, nmi: 0.6467594150983379\n",
      "resolution: 1.9, nmi: 0.6423382209090869\n",
      "resolution: 2.0, nmi: 0.6440596759622824\n",
      "optimised clustering against cell_type\n",
      "optimal cluster resolution: 0.4\n",
      "optimal score: 0.7025492163342784\n",
      "PCA\n",
      "Nearest Neigbours\n",
      "UMAP\n",
      "resolution: 0.1, nmi: 0.5895190630236918\n",
      "resolution: 0.2, nmi: 0.6940988677630667\n",
      "resolution: 0.3, nmi: 0.7028719085717671\n",
      "resolution: 0.4, nmi: 0.6975175231975784\n",
      "resolution: 0.5, nmi: 0.6918283013812631\n",
      "resolution: 0.6, nmi: 0.7102339436020901\n",
      "resolution: 0.7, nmi: 0.7044549027609237\n",
      "resolution: 0.8, nmi: 0.6969188799822654\n",
      "resolution: 0.9, nmi: 0.6922439322852855\n",
      "resolution: 1.0, nmi: 0.6769304322026398\n",
      "resolution: 1.1, nmi: 0.6661200974285725\n",
      "resolution: 1.2, nmi: 0.6514742588062717\n",
      "resolution: 1.3, nmi: 0.6522243424933365\n",
      "resolution: 1.4, nmi: 0.6590413305456211\n",
      "resolution: 1.5, nmi: 0.662549725112882\n",
      "resolution: 1.6, nmi: 0.6616742199728807\n",
      "resolution: 1.7, nmi: 0.6618620467636294\n",
      "resolution: 1.8, nmi: 0.6572774539649645\n",
      "resolution: 1.9, nmi: 0.648991105670702\n",
      "resolution: 2.0, nmi: 0.6499799085593218\n",
      "optimised clustering against cell_type\n",
      "optimal cluster resolution: 0.6\n",
      "optimal score: 0.7102339436020901\n"
     ]
    },
    {
     "data": {
      "text/plain": [
       "defaultdict(list,\n",
       "            {'Average Silhouette Width': [0.5575939267873764,\n",
       "              0.5424599200487137,\n",
       "              0.5503715239465237],\n",
       "             'Adjusted Rand Index': [0.469525536563135,\n",
       "              0.46928111749990487,\n",
       "              0.4749587834887124]})"
      ]
     },
     "execution_count": 5,
     "metadata": {},
     "output_type": "execute_result"
    }
   ],
   "source": [
    "apply_metrics([Silhouette(), ARI()], [adata_sct, adata_sct2, adata_sct_c1], \"cell_type\")"
   ]
  },
  {
   "cell_type": "markdown",
   "metadata": {},
   "source": []
  }
 ],
 "metadata": {
  "kernelspec": {
   "display_name": "residTransform",
   "language": "python",
   "name": "python3"
  },
  "language_info": {
   "codemirror_mode": {
    "name": "ipython",
    "version": 3
   },
   "file_extension": ".py",
   "mimetype": "text/x-python",
   "name": "python",
   "nbconvert_exporter": "python",
   "pygments_lexer": "ipython3",
   "version": "3.10.8"
  },
  "orig_nbformat": 4,
  "vscode": {
   "interpreter": {
    "hash": "49758b44edec2beee5573c70f4fbd8fd5a5f6d253c8ad1e5957e9d7019d548ec"
   }
  }
 },
 "nbformat": 4,
 "nbformat_minor": 2
}
