{
 "cells": [
  {
   "cell_type": "code",
   "execution_count": 1,
   "id": "5ac20535",
   "metadata": {},
   "outputs": [],
   "source": [
    "import scanpy as sc\n",
    "import episcanpy as epi\n",
    "import anndata as ad\n",
    "import seaborn as sns\n",
    "import matplotlib.pyplot as plt\n",
    "import numpy as np\n",
    "import pandas as pd\n",
    "import scipy.stats as stats\n",
    "import os"
   ]
  },
  {
   "cell_type": "code",
   "execution_count": 2,
   "id": "2f28896d",
   "metadata": {},
   "outputs": [],
   "source": [
    "file_path='/home/ubuntu/Mouse_scATACseq_AdultCerebralCortex_10XGenomics/'\n",
    "base_dir = \"{}\".format(file_path)"
   ]
  },
  {
   "cell_type": "code",
   "execution_count": 3,
   "id": "8b3b1a22",
   "metadata": {},
   "outputs": [
    {
     "data": {
      "text/plain": [
       "['gencode.vM25.basic.annotation.gtf.gz',\n",
       " 'atac_v1_adult_brain_fresh_5k_singlecell.csv',\n",
       " 'atac_v1_adult_brain_fresh_5k_fragments.tsv.gz',\n",
       " '5k_brain_peaks.narrowPeak',\n",
       " '10x-ATAC-Brain5k.h5ad']"
      ]
     },
     "execution_count": 3,
     "metadata": {},
     "output_type": "execute_result"
    }
   ],
   "source": [
    "os.listdir(file_path) # shows all files in file_path"
   ]
  },
  {
   "cell_type": "code",
   "execution_count": 4,
   "id": "80cce4f0",
   "metadata": {
    "scrolled": true
   },
   "outputs": [
    {
     "name": "stdout",
     "output_type": "stream",
     "text": [
      "0    494367\n",
      "1      5337\n",
      "Name: is__cell_barcode, dtype: int64\n"
     ]
    }
   ],
   "source": [
    "name = \"5k_brain\"\n",
    "\n",
    "fragments_file = base_dir + \"/atac_v1_adult_brain_fresh_5k_fragments.tsv.gz\"\n",
    "peak_file = base_dir + \"/{}_peaks.narrowPeak\".format(name)\n",
    "barcode_info = pd.read_csv(base_dir + \"/atac_v1_adult_brain_fresh_5k_singlecell.csv\")\n",
    "print(barcode_info.is__cell_barcode.value_counts())"
   ]
  },
  {
   "cell_type": "code",
   "execution_count": 5,
   "id": "b427288b",
   "metadata": {},
   "outputs": [],
   "source": [
    "valid_barcodes = barcode_info[barcode_info.is__cell_barcode == 1].barcode.tolist()"
   ]
  },
  {
   "cell_type": "code",
   "execution_count": 6,
   "id": "6811f6ab",
   "metadata": {},
   "outputs": [
    {
     "data": {
      "text/plain": [
       "AnnData object with n_obs × n_vars = 2317 × 155093\n",
       "    obs: 'cell_type', 'domain', 'protocol', 'dataset'\n",
       "    var: 'feature_types', 'genome', 'chrom', 'chromStart', 'chromEnd', 'n_counts'"
      ]
     },
     "execution_count": 6,
     "metadata": {},
     "output_type": "execute_result"
    }
   ],
   "source": [
    "anno = ad.read(base_dir + \"/10x-ATAC-Brain5k.h5ad\")\n",
    "anno"
   ]
  },
  {
   "cell_type": "code",
   "execution_count": 7,
   "id": "153734b7",
   "metadata": {},
   "outputs": [],
   "source": [
    "anno_per_bc = {bc: anno for bc, anno in zip(anno.obs.index, anno.obs.cell_type)}"
   ]
  },
  {
   "cell_type": "code",
   "execution_count": 8,
   "id": "cd827faa",
   "metadata": {},
   "outputs": [
    {
     "name": "stderr",
     "output_type": "stream",
     "text": [
      " FutureWarning:/home/ubuntu/miniconda3/envs/residTransform/lib/python3.10/site-packages/episcanpy/count_matrix/_bld_atac_mtx.py:304: X.dtype being converted to np.float32 from float64. In the next version of anndata (0.9) conversion will not be automatic. Pass dtype explicitly to avoid this warning. Pass `AnnData(X, dtype=X.dtype, ...)` to get the future behavour.\n"
     ]
    },
    {
     "data": {
      "text/plain": [
       "AnnData object with n_obs × n_vars = 5337 × 189587\n",
       "    var: 'chr', 'start', 'stop'"
      ]
     },
     "execution_count": 8,
     "metadata": {},
     "output_type": "execute_result"
    }
   ],
   "source": [
    "adata = epi.ct.peak_mtx(\n",
    "    fragments_file,\n",
    "    peak_file,\n",
    "    valid_bcs = valid_barcodes,\n",
    "    normalized_peak_size=None,\n",
    "    fast=False\n",
    ")\n",
    "\n",
    "adata"
   ]
  },
  {
   "cell_type": "code",
   "execution_count": 9,
   "id": "79549a7d",
   "metadata": {},
   "outputs": [
    {
     "data": {
      "text/html": [
       "<div>\n",
       "<style scoped>\n",
       "    .dataframe tbody tr th:only-of-type {\n",
       "        vertical-align: middle;\n",
       "    }\n",
       "\n",
       "    .dataframe tbody tr th {\n",
       "        vertical-align: top;\n",
       "    }\n",
       "\n",
       "    .dataframe thead th {\n",
       "        text-align: right;\n",
       "    }\n",
       "</style>\n",
       "<table border=\"1\" class=\"dataframe\">\n",
       "  <thead>\n",
       "    <tr style=\"text-align: right;\">\n",
       "      <th></th>\n",
       "      <th>cell_type</th>\n",
       "    </tr>\n",
       "  </thead>\n",
       "  <tbody>\n",
       "    <tr>\n",
       "      <th>AAACGAAAGTAATCAG-1</th>\n",
       "      <td>L5 IT</td>\n",
       "    </tr>\n",
       "    <tr>\n",
       "      <th>AAACGAACACGCTGTG-1</th>\n",
       "      <td>L2/3 IT</td>\n",
       "    </tr>\n",
       "    <tr>\n",
       "      <th>AAACGAATCCTGGGAC-1</th>\n",
       "      <td>L6 IT</td>\n",
       "    </tr>\n",
       "    <tr>\n",
       "      <th>AAACGAATCGGGAAAC-1</th>\n",
       "      <td>No Annotation</td>\n",
       "    </tr>\n",
       "    <tr>\n",
       "      <th>AAACTCGAGAAAGCAG-1</th>\n",
       "      <td>L2/3 IT</td>\n",
       "    </tr>\n",
       "    <tr>\n",
       "      <th>...</th>\n",
       "      <td>...</td>\n",
       "    </tr>\n",
       "    <tr>\n",
       "      <th>TTTGTGTGTGCTTCCT-1</th>\n",
       "      <td>No Annotation</td>\n",
       "    </tr>\n",
       "    <tr>\n",
       "      <th>TTTGTGTGTGGCATAG-1</th>\n",
       "      <td>No Annotation</td>\n",
       "    </tr>\n",
       "    <tr>\n",
       "      <th>TTTGTGTTCAGGGTTT-1</th>\n",
       "      <td>L6 CT</td>\n",
       "    </tr>\n",
       "    <tr>\n",
       "      <th>TTTGTGTTCTCTGCGT-1</th>\n",
       "      <td>L5 IT</td>\n",
       "    </tr>\n",
       "    <tr>\n",
       "      <th>TTTGTGTTCTTACTCA-1</th>\n",
       "      <td>No Annotation</td>\n",
       "    </tr>\n",
       "  </tbody>\n",
       "</table>\n",
       "<p>5337 rows × 1 columns</p>\n",
       "</div>"
      ],
      "text/plain": [
       "                        cell_type\n",
       "AAACGAAAGTAATCAG-1          L5 IT\n",
       "AAACGAACACGCTGTG-1        L2/3 IT\n",
       "AAACGAATCCTGGGAC-1          L6 IT\n",
       "AAACGAATCGGGAAAC-1  No Annotation\n",
       "AAACTCGAGAAAGCAG-1        L2/3 IT\n",
       "...                           ...\n",
       "TTTGTGTGTGCTTCCT-1  No Annotation\n",
       "TTTGTGTGTGGCATAG-1  No Annotation\n",
       "TTTGTGTTCAGGGTTT-1          L6 CT\n",
       "TTTGTGTTCTCTGCGT-1          L5 IT\n",
       "TTTGTGTTCTTACTCA-1  No Annotation\n",
       "\n",
       "[5337 rows x 1 columns]"
      ]
     },
     "execution_count": 9,
     "metadata": {},
     "output_type": "execute_result"
    }
   ],
   "source": [
    "adata.obs[\"cell_type\"] = [anno_per_bc[bc] if bc in anno_per_bc else \"No Annotation\" for bc in adata.obs.index.tolist()]\n",
    "adata.obs"
   ]
  },
  {
   "cell_type": "code",
   "execution_count": 10,
   "id": "e8609951",
   "metadata": {},
   "outputs": [
    {
     "data": {
      "text/plain": [
       "<5337x189587 sparse matrix of type '<class 'numpy.float32'>'\n",
       "\twith 26914512 stored elements in Compressed Sparse Row format>"
      ]
     },
     "execution_count": 10,
     "metadata": {},
     "output_type": "execute_result"
    }
   ],
   "source": [
    "adata.X"
   ]
  },
  {
   "cell_type": "code",
   "execution_count": 11,
   "id": "bb6c9d75",
   "metadata": {},
   "outputs": [],
   "source": [
    "means = adata.X.mean"
   ]
  },
  {
   "cell_type": "code",
   "execution_count": 12,
   "id": "d6c98673",
   "metadata": {},
   "outputs": [],
   "source": [
    "adata.obs['lib_size'] = adata.X.sum(1)"
   ]
  },
  {
   "cell_type": "code",
   "execution_count": 13,
   "id": "d8684a06",
   "metadata": {},
   "outputs": [],
   "source": [
    "adata.obs['mean'] = adata.X.mean(1)"
   ]
  },
  {
   "cell_type": "code",
   "execution_count": 14,
   "id": "d28ed2db",
   "metadata": {},
   "outputs": [],
   "source": [
    "adata.obs['var'] = adata.X.power(2).mean(1) - np.square(adata.X.mean(1))"
   ]
  },
  {
   "cell_type": "code",
   "execution_count": 15,
   "id": "2f956ecd",
   "metadata": {},
   "outputs": [
    {
     "name": "stdout",
     "output_type": "stream",
     "text": [
      "(5337,)\n",
      "(5337,)\n",
      "(5337,)\n"
     ]
    }
   ],
   "source": [
    "print(adata.obs['lib_size'].shape)\n",
    "print(adata.obs['mean'].shape)\n",
    "print(adata.obs['var'].shape)"
   ]
  },
  {
   "cell_type": "code",
   "execution_count": 16,
   "id": "8c8a134d",
   "metadata": {},
   "outputs": [],
   "source": [
    "x100 = np.logspace(-4, -0.8, num=10000)\n",
    "y100 = x100 + x100**2/100"
   ]
  },
  {
   "cell_type": "code",
   "execution_count": 17,
   "id": "bdf8a7fd",
   "metadata": {},
   "outputs": [],
   "source": [
    "x10 = np.logspace(-4, -0.8, num=10000)\n",
    "y10 = x10 + x10**2/10"
   ]
  },
  {
   "cell_type": "code",
   "execution_count": 18,
   "id": "7269fd1a",
   "metadata": {},
   "outputs": [],
   "source": [
    "x1 = np.logspace(-4, -0.8, num=10000)\n",
    "y1 = x1 + x1**2/1"
   ]
  },
  {
   "cell_type": "code",
   "execution_count": 19,
   "id": "cd97a12b",
   "metadata": {},
   "outputs": [],
   "source": [
    "x01 = np.logspace(-4, -0.8, num=10000)\n",
    "y01 = x01 + x01**2/0.1"
   ]
  },
  {
   "cell_type": "code",
   "execution_count": 20,
   "id": "0332152d",
   "metadata": {
    "scrolled": true
   },
   "outputs": [
    {
     "data": {
      "text/plain": [
       "<matplotlib.legend.Legend at 0x7f58a59de080>"
      ]
     },
     "execution_count": 20,
     "metadata": {},
     "output_type": "execute_result"
    },
    {
     "data": {
      "image/png": "[encoded data removed]",
      "text/plain": [
       "<Figure size 640x480 with 1 Axes>"
      ]
     },
     "metadata": {},
     "output_type": "display_data"
    }
   ],
   "source": [
    "fig = plt.figure()\n",
    "ax = fig.add_subplot()\n",
    "ax.grid()\n",
    "ax.scatter(x = adata.obs['mean'], y = adata.obs['var'], color='blue', edgecolors='lightgrey', label='cells')\n",
    "ax.axline((0, 0), slope=1, label = 'Poisson limit')\n",
    "ax.set(xscale='log', yscale='log')\n",
    "ax.set_ylabel('Read variance')\n",
    "ax.set_xlabel('Read mean')\n",
    "plt.plot(x1,y1, 'r', label = \"θ = 1\")\n",
    "plt.plot(x01,y01, 'g', label = \"θ = 0.1\")\n",
    "plt.plot(x10,y10, 'b', label = \"θ = 10\")\n",
    "\n",
    "ax.legend()"
   ]
  },
  {
   "cell_type": "code",
   "execution_count": 21,
   "id": "e5765360",
   "metadata": {},
   "outputs": [
    {
     "data": {
      "text/plain": [
       "array([[0., 1., 0., ..., 0., 0., 0.],\n",
       "       [0., 0., 0., ..., 0., 0., 0.],\n",
       "       [0., 0., 0., ..., 1., 0., 0.],\n",
       "       ...,\n",
       "       [0., 2., 0., ..., 0., 1., 0.],\n",
       "       [0., 0., 0., ..., 0., 0., 0.],\n",
       "       [0., 0., 0., ..., 0., 0., 0.]], dtype=float32)"
      ]
     },
     "execution_count": 21,
     "metadata": {},
     "output_type": "execute_result"
    }
   ],
   "source": [
    "counts = adata.X\n",
    "counts = counts.toarray()\n",
    "counts"
   ]
  },
  {
   "cell_type": "code",
   "execution_count": 22,
   "id": "52898f7b",
   "metadata": {},
   "outputs": [
    {
     "data": {
      "text/plain": [
       "(5337, 189587)"
      ]
     },
     "execution_count": 22,
     "metadata": {},
     "output_type": "execute_result"
    }
   ],
   "source": [
    "counts.shape"
   ]
  },
  {
   "cell_type": "code",
   "execution_count": 23,
   "id": "19a0b25c",
   "metadata": {},
   "outputs": [
    {
     "data": {
      "text/plain": [
       "(1011825819,)"
      ]
     },
     "execution_count": 23,
     "metadata": {},
     "output_type": "execute_result"
    }
   ],
   "source": [
    "counts1d = counts.flatten()\n",
    "counts1d.shape"
   ]
  },
  {
   "cell_type": "code",
   "execution_count": 24,
   "id": "5d3387c9",
   "metadata": {},
   "outputs": [
    {
     "data": {
      "text/plain": [
       "array([[0.00000000e+00, 9.84911307e+08],\n",
       "       [1.00000000e+00, 2.13924990e+07],\n",
       "       [2.00000000e+00, 4.22701600e+06],\n",
       "       [3.00000000e+00, 9.69587000e+05],\n",
       "       [4.00000000e+00, 2.39605000e+05],\n",
       "       [5.00000000e+00, 6.24530000e+04],\n",
       "       [6.00000000e+00, 1.65780000e+04],\n",
       "       [7.00000000e+00, 4.66800000e+03],\n",
       "       [8.00000000e+00, 1.44700000e+03],\n",
       "       [9.00000000e+00, 4.13000000e+02],\n",
       "       [1.00000000e+01, 1.39000000e+02],\n",
       "       [1.10000000e+01, 6.30000000e+01],\n",
       "       [1.20000000e+01, 2.40000000e+01],\n",
       "       [1.30000000e+01, 1.40000000e+01],\n",
       "       [1.40000000e+01, 1.00000000e+00],\n",
       "       [1.50000000e+01, 2.00000000e+00],\n",
       "       [1.70000000e+01, 1.00000000e+00],\n",
       "       [1.90000000e+01, 1.00000000e+00],\n",
       "       [2.00000000e+01, 1.00000000e+00]])"
      ]
     },
     "execution_count": 24,
     "metadata": {},
     "output_type": "execute_result"
    }
   ],
   "source": [
    "unique, counts = np.unique(counts1d, return_counts = True)\n",
    "np.asarray((unique,counts)).T"
   ]
  },
  {
   "cell_type": "code",
   "execution_count": 25,
   "id": "7195194f",
   "metadata": {},
   "outputs": [
    {
     "data": {
      "image/png": "[encoded data removed]",
      "text/plain": [
       "<Figure size 800x400 with 1 Axes>"
      ]
     },
     "metadata": {},
     "output_type": "display_data"
    }
   ],
   "source": [
    "plt.figure(figsize=(8,4))\n",
    "g = sns.barplot(x = unique, y = counts)\n",
    "g.set_yscale(\"log\")"
   ]
  },
  {
   "cell_type": "code",
   "execution_count": 26,
   "id": "d54d1c34",
   "metadata": {},
   "outputs": [],
   "source": [
    "adata.write(\"mouse_adata_base.h5ad\")"
   ]
  },
  {
   "cell_type": "code",
   "execution_count": null,
   "id": "2a0830df",
   "metadata": {},
   "outputs": [],
   "source": []
  }
 ],
 "metadata": {
  "kernelspec": {
   "display_name": "residTransform",
   "language": "python",
   "name": "python3"
  },
  "language_info": {
   "codemirror_mode": {
    "name": "ipython",
    "version": 3
   },
   "file_extension": ".py",
   "mimetype": "text/x-python",
   "name": "python",
   "nbconvert_exporter": "python",
   "pygments_lexer": "ipython3",
   "version": "3.10.8 | packaged by conda-forge | (main, Nov 22 2022, 08:26:04) [GCC 10.4.0]"
  },
  "vscode": {
   "interpreter": {
    "hash": "49758b44edec2beee5573c70f4fbd8fd5a5f6d253c8ad1e5957e9d7019d548ec"
   }
  }
 },
 "nbformat": 4,
 "nbformat_minor": 5
}
