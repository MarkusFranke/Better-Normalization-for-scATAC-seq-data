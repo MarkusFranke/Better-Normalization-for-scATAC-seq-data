{
 "cells": [
  {
   "cell_type": "code",
   "execution_count": 1,
   "metadata": {},
   "outputs": [
    {
     "name": "stderr",
     "output_type": "stream",
     "text": [
      "During startup - Warning messages:\n",
      "1: Setting LC_TIME failed, using \"C\" \n",
      "2: Setting LC_MONETARY failed, using \"C\" \n",
      "3: Setting LC_PAPER failed, using \"C\" \n",
      "4: Setting LC_MEASUREMENT failed, using \"C\" \n"
     ]
    }
   ],
   "source": [
    "import anndata as ad\n",
    "import anndata2ri\n",
    "import logging\n",
    "import numpy as np\n",
    "import scanpy as sc\n",
    "import scipy\n",
    "from scipy.sparse import csr_matrix, issparse\n",
    "\n",
    "\n",
    "import rpy2.rinterface_lib.callbacks as rcb\n",
    "import rpy2.robjects as ro\n",
    "\n",
    "sc.settings.verbosity = 0\n",
    "sc.settings.set_figure_params(\n",
    "    dpi=80,\n",
    "    facecolor=\"white\",\n",
    "    # color_map=\"YlGnBu\",\n",
    "    frameon=False,\n",
    ")\n",
    "rcb.logger.setLevel(logging.ERROR)\n",
    "ro.pandas2ri.activate()\n",
    "anndata2ri.activate()\n",
    "\n",
    "%load_ext rpy2.ipython"
   ]
  },
  {
   "cell_type": "code",
   "execution_count": 2,
   "metadata": {},
   "outputs": [
    {
     "name": "stdout",
     "output_type": "stream",
     "text": [
      "\n",
      "    WARNING: The R package \"reticulate\" only fixed recently\n",
      "    an issue that caused a segfault when used with rpy2:\n",
      "    https://github.com/rstudio/reticulate/pull/1188\n",
      "    Make sure that you use a version of that package that includes\n",
      "    the fix.\n",
      "    "
     ]
    }
   ],
   "source": [
    "%%R\n",
    "library(Seurat)\n",
    "library(sctransform)"
   ]
  },
  {
   "attachments": {},
   "cell_type": "markdown",
   "metadata": {},
   "source": [
    "### Adjustment to SCTransform\n",
    "\n",
    "https://doi.org/10.1186/s13059-021-02451-7 suggests that calculating $\\theta$ for each gene overspecifies SCTransform despite the kernel regression for scRNA.\n",
    "\n",
    "Given that scATAC data has about 10x more \"genes\" (or in this case sequences of the DNA) we have to fit 10x more negative binomial regressions. Adding to that the much smaller range of fragment counts and the much lower mean and variance of the fragment counts in the data, overfitting may be a bigger problem in scATAC data than in scRNA.\n",
    "\n",
    "That being said, while the source above argued for the method we adapted in this notebook, it is important to mention that the overdispersion seems to be much stronger in scATAC data than in scRNA data, which would make the parameter more important.\n",
    "\n",
    "If time permits, we'd investigate this further:\n",
    "\n",
    "- in scRNA sequencing, there are linear trends in the smoothed estimates in the original SCTransform paper method, do these persist in scATAC data?\n",
    "- is there a biologically meaningful relationship between the expression strength and the overdispersion parameter?\n",
    "- simulate data with constant $\\theta$ and see if $\\theta$ estimates still increase with average UMI count.\n",
    "- One of the main arguments in the paper above was that the overdispersion was low and thus the exact value of $\\theta$ does only weakly affect the variance. While we have much more overdispersion, we also have much lower average UMI counts and thus the actual growth in variance compared to the mean is very low, since overdispersion grows quadratic in the mean"
   ]
  },
  {
   "cell_type": "code",
   "execution_count": 3,
   "metadata": {},
   "outputs": [],
   "source": [
    "adata = sc.read(\"adata_normalized.h5ad\")"
   ]
  },
  {
   "cell_type": "code",
   "execution_count": 4,
   "metadata": {},
   "outputs": [],
   "source": [
    "adata.X = adata.layers[\"raw_fragments\"]"
   ]
  },
  {
   "cell_type": "code",
   "execution_count": 5,
   "metadata": {},
   "outputs": [],
   "source": [
    "if issparse(adata.X):\n",
    "    if not adata.X.has_sorted_indices:\n",
    "        adata.X.sort_indices()\n",
    "ro.globalenv[\"adata\"] = adata"
   ]
  },
  {
   "cell_type": "code",
   "execution_count": 6,
   "metadata": {},
   "outputs": [
    {
     "name": "stdout",
     "output_type": "stream",
     "text": [
      "  |======================================================================| 100%\n",
      "  |======================================================================| 100%\n"
     ]
    }
   ],
   "source": [
    "%%R\n",
    "seurat_obj = as.Seurat(adata, counts=\"X\", data = NULL)\n",
    "seurat_obj = RenameAssays(seurat_obj, originalexp = \"RNA\")\n",
    "res = SCTransform(object=seurat_obj, method = \"offset_shared_theta_estimate\", theta_given = 0.1, return.only.var.genes = FALSE)"
   ]
  },
  {
   "cell_type": "code",
   "execution_count": 7,
   "metadata": {},
   "outputs": [],
   "source": [
    "norm_x = ro.r(\"res@assays$SCT@scale.data\").T\n",
    "adata.layers[\"scTransform_normalization_c1\"] = norm_x"
   ]
  },
  {
   "cell_type": "code",
   "execution_count": 8,
   "metadata": {},
   "outputs": [
    {
     "ename": "",
     "evalue": "",
     "output_type": "error",
     "traceback": [
      "\u001b[1;31mThe Kernel crashed while executing code in the the current cell or a previous cell. Please review the code in the cell(s) to identify a possible cause of the failure. Click <a href='https://aka.ms/vscodeJupyterKernelCrash'>here</a> for more info. View Jupyter <a href='command:jupyter.viewOutput'>log</a> for further details."
     ]
    }
   ],
   "source": [
    "adata.write(\"adata_normalized_custom.h5ad\")"
   ]
  },
  {
   "cell_type": "code",
   "execution_count": null,
   "metadata": {},
   "outputs": [],
   "source": []
  }
 ],
 "metadata": {
  "kernelspec": {
   "display_name": "residTransform",
   "language": "python",
   "name": "python3"
  },
  "language_info": {
   "codemirror_mode": {
    "name": "ipython",
    "version": 3
   },
   "file_extension": ".py",
   "mimetype": "text/x-python",
   "name": "python",
   "nbconvert_exporter": "python",
   "pygments_lexer": "ipython3",
   "version": "3.10.8"
  },
  "orig_nbformat": 4,
  "vscode": {
   "interpreter": {
    "hash": "49758b44edec2beee5573c70f4fbd8fd5a5f6d253c8ad1e5957e9d7019d548ec"
   }
  }
 },
 "nbformat": 4,
 "nbformat_minor": 2
}
