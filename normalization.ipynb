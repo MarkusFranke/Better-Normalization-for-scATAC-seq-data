{
 "cells": [
  {
   "cell_type": "markdown",
   "id": "29994cd4-c9f8-4578-b29e-d44883502e6f",
   "metadata": {},
   "source": [
    "# Normalization methods"
   ]
  },
  {
   "cell_type": "code",
   "execution_count": 1,
   "id": "de0f046e-ff97-493a-8bd6-12798c139130",
   "metadata": {},
   "outputs": [],
   "source": [
    "%load_ext autoreload\n",
    "%autoreload 2\n",
    "\n",
    "import src.data as data\n",
    "import src.simulation as sim\n",
    "import src.normalization as norm\n",
    "import scanpy as sc\n",
    "import episcanpy as epi\n",
    "import anndata as ad\n",
    "import seaborn as sns\n",
    "import matplotlib.pyplot as plt\n",
    "import src.plots as myplt\n",
    "from pathlib import Path\n",
    "import numpy as np\n",
    "import scipy.stats as stats"
   ]
  },
  {
   "cell_type": "code",
   "execution_count": 2,
   "id": "fb97196f-142f-4c40-9079-7f16889f41b9",
   "metadata": {},
   "outputs": [],
   "source": [
    "file_path=Path('data/mouse_brain_5k/bin_by_cell_filtered.h5ad')"
   ]
  },
  {
   "cell_type": "code",
   "execution_count": 3,
   "id": "e679cc96-528f-46f6-b7e0-e4e0e47d8f69",
   "metadata": {},
   "outputs": [],
   "source": [
    "epidata = data.MouseBrainDataset()\n",
    "# adata = epidata.load_mtx(matrix_path=Path('data/mouse_brain_5k/bin_by_cell.h5ad'))\n",
    "# adata = epidata.get_window_mtx(matrix_path=Path('data/mouse_brain_5k/10000bin_by_cell.h5ad'), window_size=10000, save=True)\n",
    "# adata = epidata.get_peak_mtx(matrix_path=Path('data/mouse_brain_5k/peak_by_cell.h5ad'), save=True)\n",
    "adata = epidata.load_mtx(matrix_path=file_path)"
   ]
  },
  {
   "cell_type": "markdown",
   "id": "62156876-7794-4299-9ce6-e821d8b9ddbc",
   "metadata": {
    "tags": []
   },
   "source": [
    "## Normalization\n"
   ]
  },
  {
   "cell_type": "code",
   "execution_count": 4,
   "id": "7fbc5aab-494c-4201-b806-8d06ee62bbfc",
   "metadata": {},
   "outputs": [
    {
     "name": "stdout",
     "output_type": "stream",
     "text": [
      "log1pPF_normalization layer added\n",
      "pf_size_factors layer added\n"
     ]
    }
   ],
   "source": [
    "norm.log1pPF(adata)"
   ]
  },
  {
   "cell_type": "code",
   "execution_count": 5,
   "id": "cd0ddb28-7f10-4aa5-a61a-52c15481eb43",
   "metadata": {
    "tags": []
   },
   "outputs": [
    {
     "name": "stdout",
     "output_type": "stream",
     "text": [
      "scran_normalization layer added\n",
      "scran_size_factors obs added\n"
     ]
    }
   ],
   "source": [
    "norm.scran(adata)"
   ]
  },
  {
   "cell_type": "code",
   "execution_count": 6,
   "id": "4b1d18ea-23a4-493e-9821-3cac33189c46",
   "metadata": {},
   "outputs": [],
   "source": [
    "adata.write_h5ad(file_path.parent / (file_path.stem + '_normalized.h5ad'))"
   ]
  },
  {
   "cell_type": "code",
   "execution_count": null,
   "id": "2e8b921d-7634-488e-a1a2-0c40867fd850",
   "metadata": {},
   "outputs": [],
   "source": []
  }
 ],
 "metadata": {
  "kernelspec": {
   "display_name": "comp-methods",
   "language": "python",
   "name": "comp-methods-env"
  },
  "language_info": {
   "codemirror_mode": {
    "name": "ipython",
    "version": 3
   },
   "file_extension": ".py",
   "mimetype": "text/x-python",
   "name": "python",
   "nbconvert_exporter": "python",
   "pygments_lexer": "ipython3",
   "version": "3.10.6"
  }
 },
 "nbformat": 4,
 "nbformat_minor": 5
}
