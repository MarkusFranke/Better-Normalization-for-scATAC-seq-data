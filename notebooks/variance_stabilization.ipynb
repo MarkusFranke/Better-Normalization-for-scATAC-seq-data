{
 "cells": [
  {
   "cell_type": "markdown",
   "id": "748448a6-74e4-4f55-aa69-43a043d7263d",
   "metadata": {},
   "source": [
    "todo\n",
    "group peaks by mean variance (bins)\n"
   ]
  }
 ],
 "metadata": {
  "kernelspec": {
   "display_name": "comp-methods",
   "language": "python",
   "name": "comp-methods-env"
  },
  "language_info": {
   "codemirror_mode": {
    "name": "ipython",
    "version": 3
   },
   "file_extension": ".py",
   "mimetype": "text/x-python",
   "name": "python",
   "nbconvert_exporter": "python",
   "pygments_lexer": "ipython3",
   "version": "3.10.9"
  }
 },
 "nbformat": 4,
 "nbformat_minor": 5
}
