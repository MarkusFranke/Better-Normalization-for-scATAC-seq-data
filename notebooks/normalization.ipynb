{
 "cells": [
  {
   "cell_type": "markdown",
   "id": "29994cd4-c9f8-4578-b29e-d44883502e6f",
   "metadata": {},
   "source": [
    "# Normalization methods"
   ]
  },
  {
   "cell_type": "code",
   "execution_count": 1,
   "id": "de0f046e-ff97-493a-8bd6-12798c139130",
   "metadata": {},
   "outputs": [],
   "source": [
    "%load_ext autoreload\n",
    "%autoreload 2\n",
    "\n",
    "import os\n",
    "import sys\n",
    "module_path = os.path.abspath(os.path.join('../src'))\n",
    "sys.path.insert(0, module_path)\n",
    "\n",
    "import epinorm.data as data\n",
    "import epinorm.simulation as sim\n",
    "import epinorm.normalization as norm\n",
    "import scanpy as sc\n",
    "import episcanpy as epi\n",
    "import anndata as ad\n",
    "import seaborn as sns\n",
    "import matplotlib.pyplot as plt\n",
    "import epinorm.plots as myplt\n",
    "from pathlib import Path\n",
    "import numpy as np\n",
    "import scipy.stats as stats"
   ]
  },
  {
   "cell_type": "code",
   "execution_count": 2,
   "id": "fb97196f-142f-4c40-9079-7f16889f41b9",
   "metadata": {},
   "outputs": [],
   "source": [
    "file_path=Path('../data/mouse_brain_5k/bin_by_cell_filtered.h5ad')"
   ]
  },
  {
   "cell_type": "code",
   "execution_count": 3,
   "id": "e679cc96-528f-46f6-b7e0-e4e0e47d8f69",
   "metadata": {},
   "outputs": [],
   "source": [
    "epidata = data.MouseBrainDataset(\"..\")\n",
    "# adata = epidata.load_mtx(matrix_path=Path('data/mouse_brain_5k/bin_by_cell.h5ad'))\n",
    "# adata = epidata.get_window_mtx(matrix_path=Path('data/mouse_brain_5k/10000bin_by_cell.h5ad'), window_size=10000, save=True)\n",
    "# adata = epidata.get_peak_mtx(matrix_path=Path('data/mouse_brain_5k/peak_by_cell.h5ad'), save=True)\n",
    "adata = epidata.load_mtx(matrix_path=file_path)"
   ]
  },
  {
   "cell_type": "markdown",
   "id": "62156876-7794-4299-9ce6-e821d8b9ddbc",
   "metadata": {
    "tags": []
   },
   "source": [
    "## Normalization\n"
   ]
  },
  {
   "cell_type": "code",
   "execution_count": 4,
   "id": "7fbc5aab-494c-4201-b806-8d06ee62bbfc",
   "metadata": {},
   "outputs": [
    {
     "name": "stdout",
     "output_type": "stream",
     "text": [
      "log1pPF_normalization layer added\n",
      "pf_size_factors layer added\n"
     ]
    }
   ],
   "source": [
    "norm.log1pPF(adata)"
   ]
  },
  {
   "cell_type": "code",
   "execution_count": 5,
   "id": "cd0ddb28-7f10-4aa5-a61a-52c15481eb43",
   "metadata": {
    "tags": []
   },
   "outputs": [
    {
     "ename": "KeyboardInterrupt",
     "evalue": "",
     "output_type": "error",
     "traceback": [
      "\u001B[0;31m---------------------------------------------------------------------------\u001B[0m",
      "\u001B[0;31mKeyboardInterrupt\u001B[0m                         Traceback (most recent call last)",
      "Cell \u001B[0;32mIn [5], line 1\u001B[0m\n\u001B[0;32m----> 1\u001B[0m \u001B[43mnorm\u001B[49m\u001B[38;5;241;43m.\u001B[39;49m\u001B[43mscran\u001B[49m\u001B[43m(\u001B[49m\u001B[43madata\u001B[49m\u001B[43m)\u001B[49m\n",
      "File \u001B[0;32m/mnt/ssd/Projects/epi-norm/src/epinorm/normalization.py:42\u001B[0m, in \u001B[0;36mscran\u001B[0;34m(adata)\u001B[0m\n\u001B[1;32m     40\u001B[0m epi\u001B[38;5;241m.\u001B[39mpp\u001B[38;5;241m.\u001B[39mnormalize_total(adata_pp)\n\u001B[1;32m     41\u001B[0m epi\u001B[38;5;241m.\u001B[39mpp\u001B[38;5;241m.\u001B[39mlog1p(adata_pp)\n\u001B[0;32m---> 42\u001B[0m \u001B[43mepi\u001B[49m\u001B[38;5;241;43m.\u001B[39;49m\u001B[43mpp\u001B[49m\u001B[38;5;241;43m.\u001B[39;49m\u001B[43mpca\u001B[49m\u001B[43m(\u001B[49m\u001B[43madata_pp\u001B[49m\u001B[43m,\u001B[49m\u001B[43m \u001B[49m\u001B[43mn_comps\u001B[49m\u001B[38;5;241;43m=\u001B[39;49m\u001B[38;5;241;43m15\u001B[39;49m\u001B[43m)\u001B[49m\n\u001B[1;32m     43\u001B[0m epi\u001B[38;5;241m.\u001B[39mpp\u001B[38;5;241m.\u001B[39mneighbors(adata_pp)\n\u001B[1;32m     44\u001B[0m epi\u001B[38;5;241m.\u001B[39mtl\u001B[38;5;241m.\u001B[39mleiden(adata_pp, key_added\u001B[38;5;241m=\u001B[39m\u001B[38;5;124m\"\u001B[39m\u001B[38;5;124mgroups\u001B[39m\u001B[38;5;124m\"\u001B[39m)\n",
      "File \u001B[0;32m~/miniconda3/envs/comp-methods-env/lib/python3.10/site-packages/episcanpy/preprocessing/_scanpy_fct.py:238\u001B[0m, in \u001B[0;36mpca\u001B[0;34m(adata, n_comps, zero_center, svd_solver, random_state, return_info, use_highly_variable, dtype, copy, chunked, chunk_size)\u001B[0m\n\u001B[1;32m    235\u001B[0m     \u001B[38;5;28;01mreturn\u001B[39;00m(sc\u001B[38;5;241m.\u001B[39mpp\u001B[38;5;241m.\u001B[39mpca(adata, n_comps, zero_center, svd_solver, random_state, return_info,\n\u001B[1;32m    236\u001B[0m         use_highly_variable, dtype, copy, chunked, chunk_size))\n\u001B[1;32m    237\u001B[0m \u001B[38;5;28;01melse\u001B[39;00m:\n\u001B[0;32m--> 238\u001B[0m     \u001B[43msc\u001B[49m\u001B[38;5;241;43m.\u001B[39;49m\u001B[43mpp\u001B[49m\u001B[38;5;241;43m.\u001B[39;49m\u001B[43mpca\u001B[49m\u001B[43m(\u001B[49m\u001B[43madata\u001B[49m\u001B[43m,\u001B[49m\u001B[43m \u001B[49m\u001B[43mn_comps\u001B[49m\u001B[43m,\u001B[49m\u001B[43m \u001B[49m\u001B[43mzero_center\u001B[49m\u001B[43m,\u001B[49m\u001B[43m \u001B[49m\u001B[43msvd_solver\u001B[49m\u001B[43m,\u001B[49m\u001B[43m \u001B[49m\u001B[43mrandom_state\u001B[49m\u001B[43m,\u001B[49m\u001B[43m \u001B[49m\u001B[43mreturn_info\u001B[49m\u001B[43m,\u001B[49m\n\u001B[1;32m    239\u001B[0m \u001B[43m        \u001B[49m\u001B[43muse_highly_variable\u001B[49m\u001B[43m,\u001B[49m\u001B[43m \u001B[49m\u001B[43mdtype\u001B[49m\u001B[43m,\u001B[49m\u001B[43m \u001B[49m\u001B[43mcopy\u001B[49m\u001B[43m,\u001B[49m\u001B[43m \u001B[49m\u001B[43mchunked\u001B[49m\u001B[43m,\u001B[49m\u001B[43m \u001B[49m\u001B[43mchunk_size\u001B[49m\u001B[43m)\u001B[49m\n",
      "File \u001B[0;32m~/miniconda3/envs/comp-methods-env/lib/python3.10/site-packages/scanpy/preprocessing/_pca.py:200\u001B[0m, in \u001B[0;36mpca\u001B[0;34m(data, n_comps, zero_center, svd_solver, random_state, return_info, use_highly_variable, dtype, copy, chunked, chunk_size)\u001B[0m\n\u001B[1;32m    194\u001B[0m \u001B[38;5;28;01mif\u001B[39;00m svd_solver \u001B[38;5;129;01mnot\u001B[39;00m \u001B[38;5;129;01min\u001B[39;00m {\u001B[38;5;124m'\u001B[39m\u001B[38;5;124mlobpcg\u001B[39m\u001B[38;5;124m'\u001B[39m, \u001B[38;5;124m'\u001B[39m\u001B[38;5;124marpack\u001B[39m\u001B[38;5;124m'\u001B[39m}:\n\u001B[1;32m    195\u001B[0m     \u001B[38;5;28;01mraise\u001B[39;00m \u001B[38;5;167;01mValueError\u001B[39;00m(\n\u001B[1;32m    196\u001B[0m         \u001B[38;5;124m'\u001B[39m\u001B[38;5;124msvd_solver: \u001B[39m\u001B[38;5;132;01m{svd_solver}\u001B[39;00m\u001B[38;5;124m can not be used with sparse input.\u001B[39m\u001B[38;5;130;01m\\n\u001B[39;00m\u001B[38;5;124m'\u001B[39m\n\u001B[1;32m    197\u001B[0m         \u001B[38;5;124m'\u001B[39m\u001B[38;5;124mUse \u001B[39m\u001B[38;5;124m\"\u001B[39m\u001B[38;5;124marpack\u001B[39m\u001B[38;5;124m\"\u001B[39m\u001B[38;5;124m (the default) or \u001B[39m\u001B[38;5;124m\"\u001B[39m\u001B[38;5;124mlobpcg\u001B[39m\u001B[38;5;124m\"\u001B[39m\u001B[38;5;124m instead.\u001B[39m\u001B[38;5;124m'\u001B[39m\n\u001B[1;32m    198\u001B[0m     )\n\u001B[0;32m--> 200\u001B[0m output \u001B[38;5;241m=\u001B[39m \u001B[43m_pca_with_sparse\u001B[49m\u001B[43m(\u001B[49m\n\u001B[1;32m    201\u001B[0m \u001B[43m    \u001B[49m\u001B[43mX\u001B[49m\u001B[43m,\u001B[49m\u001B[43m \u001B[49m\u001B[43mn_comps\u001B[49m\u001B[43m,\u001B[49m\u001B[43m \u001B[49m\u001B[43msolver\u001B[49m\u001B[38;5;241;43m=\u001B[39;49m\u001B[43msvd_solver\u001B[49m\u001B[43m,\u001B[49m\u001B[43m \u001B[49m\u001B[43mrandom_state\u001B[49m\u001B[38;5;241;43m=\u001B[39;49m\u001B[43mrandom_state\u001B[49m\n\u001B[1;32m    202\u001B[0m \u001B[43m\u001B[49m\u001B[43m)\u001B[49m\n\u001B[1;32m    203\u001B[0m \u001B[38;5;66;03m# this is just a wrapper for the results\u001B[39;00m\n\u001B[1;32m    204\u001B[0m X_pca \u001B[38;5;241m=\u001B[39m output[\u001B[38;5;124m'\u001B[39m\u001B[38;5;124mX_pca\u001B[39m\u001B[38;5;124m'\u001B[39m]\n",
      "File \u001B[0;32m~/miniconda3/envs/comp-methods-env/lib/python3.10/site-packages/scanpy/preprocessing/_pca.py:303\u001B[0m, in \u001B[0;36m_pca_with_sparse\u001B[0;34m(X, npcs, solver, mu, random_state)\u001B[0m\n\u001B[1;32m    292\u001B[0m     \u001B[38;5;28;01mreturn\u001B[39;00m XHmat(x) \u001B[38;5;241m-\u001B[39m mhmat(ones(x))\n\u001B[1;32m    294\u001B[0m XL \u001B[38;5;241m=\u001B[39m LinearOperator(\n\u001B[1;32m    295\u001B[0m     matvec\u001B[38;5;241m=\u001B[39mmatvec,\n\u001B[1;32m    296\u001B[0m     dtype\u001B[38;5;241m=\u001B[39mX\u001B[38;5;241m.\u001B[39mdtype,\n\u001B[0;32m   (...)\u001B[0m\n\u001B[1;32m    300\u001B[0m     rmatmat\u001B[38;5;241m=\u001B[39mrmatmat,\n\u001B[1;32m    301\u001B[0m )\n\u001B[0;32m--> 303\u001B[0m u, s, v \u001B[38;5;241m=\u001B[39m \u001B[43msvds\u001B[49m\u001B[43m(\u001B[49m\u001B[43mXL\u001B[49m\u001B[43m,\u001B[49m\u001B[43m \u001B[49m\u001B[43msolver\u001B[49m\u001B[38;5;241;43m=\u001B[39;49m\u001B[43msolver\u001B[49m\u001B[43m,\u001B[49m\u001B[43m \u001B[49m\u001B[43mk\u001B[49m\u001B[38;5;241;43m=\u001B[39;49m\u001B[43mnpcs\u001B[49m\u001B[43m,\u001B[49m\u001B[43m \u001B[49m\u001B[43mv0\u001B[49m\u001B[38;5;241;43m=\u001B[39;49m\u001B[43mrandom_init\u001B[49m\u001B[43m)\u001B[49m\n\u001B[1;32m    304\u001B[0m u, v \u001B[38;5;241m=\u001B[39m svd_flip(u, v)\n\u001B[1;32m    305\u001B[0m idx \u001B[38;5;241m=\u001B[39m np\u001B[38;5;241m.\u001B[39margsort(\u001B[38;5;241m-\u001B[39ms)\n",
      "File \u001B[0;32m~/miniconda3/envs/comp-methods-env/lib/python3.10/site-packages/scipy/sparse/linalg/_eigen/_svds.py:339\u001B[0m, in \u001B[0;36msvds\u001B[0;34m(A, k, ncv, tol, which, v0, maxiter, return_singular_vectors, solver, random_state, options)\u001B[0m\n\u001B[1;32m    337\u001B[0m     \u001B[38;5;28;01mif\u001B[39;00m v0 \u001B[38;5;129;01mis\u001B[39;00m \u001B[38;5;28;01mNone\u001B[39;00m \u001B[38;5;129;01mand\u001B[39;00m \u001B[38;5;129;01mnot\u001B[39;00m rs_was_None:\n\u001B[1;32m    338\u001B[0m         v0 \u001B[38;5;241m=\u001B[39m random_state\u001B[38;5;241m.\u001B[39muniform(size\u001B[38;5;241m=\u001B[39m(\u001B[38;5;28mmin\u001B[39m(A\u001B[38;5;241m.\u001B[39mshape),))\n\u001B[0;32m--> 339\u001B[0m     _, eigvec \u001B[38;5;241m=\u001B[39m \u001B[43meigsh\u001B[49m\u001B[43m(\u001B[49m\u001B[43mXH_X\u001B[49m\u001B[43m,\u001B[49m\u001B[43m \u001B[49m\u001B[43mk\u001B[49m\u001B[38;5;241;43m=\u001B[39;49m\u001B[43mk\u001B[49m\u001B[43m,\u001B[49m\u001B[43m \u001B[49m\u001B[43mtol\u001B[49m\u001B[38;5;241;43m=\u001B[39;49m\u001B[43mtol\u001B[49m\u001B[43m \u001B[49m\u001B[38;5;241;43m*\u001B[39;49m\u001B[38;5;241;43m*\u001B[39;49m\u001B[43m \u001B[49m\u001B[38;5;241;43m2\u001B[39;49m\u001B[43m,\u001B[49m\u001B[43m \u001B[49m\u001B[43mmaxiter\u001B[49m\u001B[38;5;241;43m=\u001B[39;49m\u001B[43mmaxiter\u001B[49m\u001B[43m,\u001B[49m\n\u001B[1;32m    340\u001B[0m \u001B[43m                      \u001B[49m\u001B[43mncv\u001B[49m\u001B[38;5;241;43m=\u001B[39;49m\u001B[43mncv\u001B[49m\u001B[43m,\u001B[49m\u001B[43m \u001B[49m\u001B[43mwhich\u001B[49m\u001B[38;5;241;43m=\u001B[39;49m\u001B[43mwhich\u001B[49m\u001B[43m,\u001B[49m\u001B[43m \u001B[49m\u001B[43mv0\u001B[49m\u001B[38;5;241;43m=\u001B[39;49m\u001B[43mv0\u001B[49m\u001B[43m)\u001B[49m\n\u001B[1;32m    342\u001B[0m Av \u001B[38;5;241m=\u001B[39m X_matmat(eigvec)\n\u001B[1;32m    343\u001B[0m \u001B[38;5;28;01mif\u001B[39;00m \u001B[38;5;129;01mnot\u001B[39;00m return_singular_vectors:\n",
      "File \u001B[0;32m~/miniconda3/envs/comp-methods-env/lib/python3.10/site-packages/scipy/sparse/linalg/_eigen/arpack/arpack.py:1689\u001B[0m, in \u001B[0;36meigsh\u001B[0;34m(A, k, M, sigma, which, v0, ncv, maxiter, tol, return_eigenvectors, Minv, OPinv, mode)\u001B[0m\n\u001B[1;32m   1687\u001B[0m \u001B[38;5;28;01mwith\u001B[39;00m _ARPACK_LOCK:\n\u001B[1;32m   1688\u001B[0m     \u001B[38;5;28;01mwhile\u001B[39;00m \u001B[38;5;129;01mnot\u001B[39;00m params\u001B[38;5;241m.\u001B[39mconverged:\n\u001B[0;32m-> 1689\u001B[0m         \u001B[43mparams\u001B[49m\u001B[38;5;241;43m.\u001B[39;49m\u001B[43miterate\u001B[49m\u001B[43m(\u001B[49m\u001B[43m)\u001B[49m\n\u001B[1;32m   1691\u001B[0m     \u001B[38;5;28;01mreturn\u001B[39;00m params\u001B[38;5;241m.\u001B[39mextract(return_eigenvectors)\n",
      "File \u001B[0;32m~/miniconda3/envs/comp-methods-env/lib/python3.10/site-packages/scipy/sparse/linalg/_eigen/arpack/arpack.py:547\u001B[0m, in \u001B[0;36m_SymmetricArpackParams.iterate\u001B[0;34m(self)\u001B[0m\n\u001B[1;32m    544\u001B[0m \u001B[38;5;28;01melif\u001B[39;00m \u001B[38;5;28mself\u001B[39m\u001B[38;5;241m.\u001B[39mido \u001B[38;5;241m==\u001B[39m \u001B[38;5;241m1\u001B[39m:\n\u001B[1;32m    545\u001B[0m     \u001B[38;5;66;03m# compute y = Op*x\u001B[39;00m\n\u001B[1;32m    546\u001B[0m     \u001B[38;5;28;01mif\u001B[39;00m \u001B[38;5;28mself\u001B[39m\u001B[38;5;241m.\u001B[39mmode \u001B[38;5;241m==\u001B[39m \u001B[38;5;241m1\u001B[39m:\n\u001B[0;32m--> 547\u001B[0m         \u001B[38;5;28mself\u001B[39m\u001B[38;5;241m.\u001B[39mworkd[yslice] \u001B[38;5;241m=\u001B[39m \u001B[38;5;28;43mself\u001B[39;49m\u001B[38;5;241;43m.\u001B[39;49m\u001B[43mOP\u001B[49m\u001B[43m(\u001B[49m\u001B[38;5;28;43mself\u001B[39;49m\u001B[38;5;241;43m.\u001B[39;49m\u001B[43mworkd\u001B[49m\u001B[43m[\u001B[49m\u001B[43mxslice\u001B[49m\u001B[43m]\u001B[49m\u001B[43m)\u001B[49m\n\u001B[1;32m    548\u001B[0m     \u001B[38;5;28;01melif\u001B[39;00m \u001B[38;5;28mself\u001B[39m\u001B[38;5;241m.\u001B[39mmode \u001B[38;5;241m==\u001B[39m \u001B[38;5;241m2\u001B[39m:\n\u001B[1;32m    549\u001B[0m         \u001B[38;5;28mself\u001B[39m\u001B[38;5;241m.\u001B[39mworkd[xslice] \u001B[38;5;241m=\u001B[39m \u001B[38;5;28mself\u001B[39m\u001B[38;5;241m.\u001B[39mOPb(\u001B[38;5;28mself\u001B[39m\u001B[38;5;241m.\u001B[39mworkd[xslice])\n",
      "File \u001B[0;32m~/miniconda3/envs/comp-methods-env/lib/python3.10/site-packages/scipy/sparse/linalg/_interface.py:232\u001B[0m, in \u001B[0;36mLinearOperator.matvec\u001B[0;34m(self, x)\u001B[0m\n\u001B[1;32m    229\u001B[0m \u001B[38;5;28;01mif\u001B[39;00m x\u001B[38;5;241m.\u001B[39mshape \u001B[38;5;241m!=\u001B[39m (N,) \u001B[38;5;129;01mand\u001B[39;00m x\u001B[38;5;241m.\u001B[39mshape \u001B[38;5;241m!=\u001B[39m (N,\u001B[38;5;241m1\u001B[39m):\n\u001B[1;32m    230\u001B[0m     \u001B[38;5;28;01mraise\u001B[39;00m \u001B[38;5;167;01mValueError\u001B[39;00m(\u001B[38;5;124m'\u001B[39m\u001B[38;5;124mdimension mismatch\u001B[39m\u001B[38;5;124m'\u001B[39m)\n\u001B[0;32m--> 232\u001B[0m y \u001B[38;5;241m=\u001B[39m \u001B[38;5;28;43mself\u001B[39;49m\u001B[38;5;241;43m.\u001B[39;49m\u001B[43m_matvec\u001B[49m\u001B[43m(\u001B[49m\u001B[43mx\u001B[49m\u001B[43m)\u001B[49m\n\u001B[1;32m    234\u001B[0m \u001B[38;5;28;01mif\u001B[39;00m \u001B[38;5;28misinstance\u001B[39m(x, np\u001B[38;5;241m.\u001B[39mmatrix):\n\u001B[1;32m    235\u001B[0m     y \u001B[38;5;241m=\u001B[39m asmatrix(y)\n",
      "File \u001B[0;32m~/miniconda3/envs/comp-methods-env/lib/python3.10/site-packages/scipy/sparse/linalg/_interface.py:530\u001B[0m, in \u001B[0;36m_CustomLinearOperator._matvec\u001B[0;34m(self, x)\u001B[0m\n\u001B[1;32m    529\u001B[0m \u001B[38;5;28;01mdef\u001B[39;00m \u001B[38;5;21m_matvec\u001B[39m(\u001B[38;5;28mself\u001B[39m, x):\n\u001B[0;32m--> 530\u001B[0m     \u001B[38;5;28;01mreturn\u001B[39;00m \u001B[38;5;28;43mself\u001B[39;49m\u001B[38;5;241;43m.\u001B[39;49m\u001B[43m__matvec_impl\u001B[49m\u001B[43m(\u001B[49m\u001B[43mx\u001B[49m\u001B[43m)\u001B[49m\n",
      "File \u001B[0;32m~/miniconda3/envs/comp-methods-env/lib/python3.10/site-packages/scipy/sparse/linalg/_eigen/_svds.py:278\u001B[0m, in \u001B[0;36msvds.<locals>.matvec_XH_X\u001B[0;34m(x)\u001B[0m\n\u001B[1;32m    277\u001B[0m \u001B[38;5;28;01mdef\u001B[39;00m \u001B[38;5;21mmatvec_XH_X\u001B[39m(x):\n\u001B[0;32m--> 278\u001B[0m     \u001B[38;5;28;01mreturn\u001B[39;00m \u001B[43mXH_dot\u001B[49m\u001B[43m(\u001B[49m\u001B[43mX_dot\u001B[49m\u001B[43m(\u001B[49m\u001B[43mx\u001B[49m\u001B[43m)\u001B[49m\u001B[43m)\u001B[49m\n",
      "File \u001B[0;32m~/miniconda3/envs/comp-methods-env/lib/python3.10/site-packages/scipy/sparse/linalg/_interface.py:232\u001B[0m, in \u001B[0;36mLinearOperator.matvec\u001B[0;34m(self, x)\u001B[0m\n\u001B[1;32m    229\u001B[0m \u001B[38;5;28;01mif\u001B[39;00m x\u001B[38;5;241m.\u001B[39mshape \u001B[38;5;241m!=\u001B[39m (N,) \u001B[38;5;129;01mand\u001B[39;00m x\u001B[38;5;241m.\u001B[39mshape \u001B[38;5;241m!=\u001B[39m (N,\u001B[38;5;241m1\u001B[39m):\n\u001B[1;32m    230\u001B[0m     \u001B[38;5;28;01mraise\u001B[39;00m \u001B[38;5;167;01mValueError\u001B[39;00m(\u001B[38;5;124m'\u001B[39m\u001B[38;5;124mdimension mismatch\u001B[39m\u001B[38;5;124m'\u001B[39m)\n\u001B[0;32m--> 232\u001B[0m y \u001B[38;5;241m=\u001B[39m \u001B[38;5;28;43mself\u001B[39;49m\u001B[38;5;241;43m.\u001B[39;49m\u001B[43m_matvec\u001B[49m\u001B[43m(\u001B[49m\u001B[43mx\u001B[49m\u001B[43m)\u001B[49m\n\u001B[1;32m    234\u001B[0m \u001B[38;5;28;01mif\u001B[39;00m \u001B[38;5;28misinstance\u001B[39m(x, np\u001B[38;5;241m.\u001B[39mmatrix):\n\u001B[1;32m    235\u001B[0m     y \u001B[38;5;241m=\u001B[39m asmatrix(y)\n",
      "File \u001B[0;32m~/miniconda3/envs/comp-methods-env/lib/python3.10/site-packages/scipy/sparse/linalg/_interface.py:530\u001B[0m, in \u001B[0;36m_CustomLinearOperator._matvec\u001B[0;34m(self, x)\u001B[0m\n\u001B[1;32m    529\u001B[0m \u001B[38;5;28;01mdef\u001B[39;00m \u001B[38;5;21m_matvec\u001B[39m(\u001B[38;5;28mself\u001B[39m, x):\n\u001B[0;32m--> 530\u001B[0m     \u001B[38;5;28;01mreturn\u001B[39;00m \u001B[38;5;28;43mself\u001B[39;49m\u001B[38;5;241;43m.\u001B[39;49m\u001B[43m__matvec_impl\u001B[49m\u001B[43m(\u001B[49m\u001B[43mx\u001B[49m\u001B[43m)\u001B[49m\n",
      "File \u001B[0;32m~/miniconda3/envs/comp-methods-env/lib/python3.10/site-packages/scanpy/preprocessing/_pca.py:283\u001B[0m, in \u001B[0;36m_pca_with_sparse.<locals>.matvec\u001B[0;34m(x)\u001B[0m\n\u001B[1;32m    282\u001B[0m \u001B[38;5;28;01mdef\u001B[39;00m \u001B[38;5;21mmatvec\u001B[39m(x):\n\u001B[0;32m--> 283\u001B[0m     \u001B[38;5;28;01mreturn\u001B[39;00m \u001B[43mXdot\u001B[49m\u001B[43m(\u001B[49m\u001B[43mx\u001B[49m\u001B[43m)\u001B[49m \u001B[38;5;241m-\u001B[39m mdot(x)\n",
      "File \u001B[0;32m~/miniconda3/envs/comp-methods-env/lib/python3.10/site-packages/scipy/sparse/_base.py:416\u001B[0m, in \u001B[0;36mspmatrix.dot\u001B[0;34m(self, other)\u001B[0m\n\u001B[1;32m    414\u001B[0m     \u001B[38;5;28;01mreturn\u001B[39;00m \u001B[38;5;28mself\u001B[39m \u001B[38;5;241m*\u001B[39m other\n\u001B[1;32m    415\u001B[0m \u001B[38;5;28;01melse\u001B[39;00m:\n\u001B[0;32m--> 416\u001B[0m     \u001B[38;5;28;01mreturn\u001B[39;00m \u001B[38;5;28;43mself\u001B[39;49m\u001B[43m \u001B[49m\u001B[38;5;241;43m@\u001B[39;49m\u001B[43m \u001B[49m\u001B[43mother\u001B[49m\n",
      "File \u001B[0;32m~/miniconda3/envs/comp-methods-env/lib/python3.10/site-packages/scipy/sparse/_base.py:630\u001B[0m, in \u001B[0;36mspmatrix.__matmul__\u001B[0;34m(self, other)\u001B[0m\n\u001B[1;32m    627\u001B[0m \u001B[38;5;28;01mif\u001B[39;00m isscalarlike(other):\n\u001B[1;32m    628\u001B[0m     \u001B[38;5;28;01mraise\u001B[39;00m \u001B[38;5;167;01mValueError\u001B[39;00m(\u001B[38;5;124m\"\u001B[39m\u001B[38;5;124mScalar operands are not allowed, \u001B[39m\u001B[38;5;124m\"\u001B[39m\n\u001B[1;32m    629\u001B[0m                      \u001B[38;5;124m\"\u001B[39m\u001B[38;5;124muse \u001B[39m\u001B[38;5;124m'\u001B[39m\u001B[38;5;124m*\u001B[39m\u001B[38;5;124m'\u001B[39m\u001B[38;5;124m instead\u001B[39m\u001B[38;5;124m\"\u001B[39m)\n\u001B[0;32m--> 630\u001B[0m \u001B[38;5;28;01mreturn\u001B[39;00m \u001B[38;5;28;43mself\u001B[39;49m\u001B[38;5;241;43m.\u001B[39;49m\u001B[43m_mul_dispatch\u001B[49m\u001B[43m(\u001B[49m\u001B[43mother\u001B[49m\u001B[43m)\u001B[49m\n",
      "File \u001B[0;32m~/miniconda3/envs/comp-methods-env/lib/python3.10/site-packages/scipy/sparse/_base.py:528\u001B[0m, in \u001B[0;36mspmatrix._mul_dispatch\u001B[0;34m(self, other)\u001B[0m\n\u001B[1;32m    525\u001B[0m \u001B[38;5;28;01mif\u001B[39;00m other\u001B[38;5;241m.\u001B[39m\u001B[38;5;18m__class__\u001B[39m \u001B[38;5;129;01mis\u001B[39;00m np\u001B[38;5;241m.\u001B[39mndarray:\n\u001B[1;32m    526\u001B[0m     \u001B[38;5;66;03m# Fast path for the most common case\u001B[39;00m\n\u001B[1;32m    527\u001B[0m     \u001B[38;5;28;01mif\u001B[39;00m other\u001B[38;5;241m.\u001B[39mshape \u001B[38;5;241m==\u001B[39m (N,):\n\u001B[0;32m--> 528\u001B[0m         \u001B[38;5;28;01mreturn\u001B[39;00m \u001B[38;5;28;43mself\u001B[39;49m\u001B[38;5;241;43m.\u001B[39;49m\u001B[43m_mul_vector\u001B[49m\u001B[43m(\u001B[49m\u001B[43mother\u001B[49m\u001B[43m)\u001B[49m\n\u001B[1;32m    529\u001B[0m     \u001B[38;5;28;01melif\u001B[39;00m other\u001B[38;5;241m.\u001B[39mshape \u001B[38;5;241m==\u001B[39m (N, \u001B[38;5;241m1\u001B[39m):\n\u001B[1;32m    530\u001B[0m         \u001B[38;5;28;01mreturn\u001B[39;00m \u001B[38;5;28mself\u001B[39m\u001B[38;5;241m.\u001B[39m_mul_vector(other\u001B[38;5;241m.\u001B[39mravel())\u001B[38;5;241m.\u001B[39mreshape(M, \u001B[38;5;241m1\u001B[39m)\n",
      "File \u001B[0;32m~/miniconda3/envs/comp-methods-env/lib/python3.10/site-packages/scipy/sparse/_compressed.py:489\u001B[0m, in \u001B[0;36m_cs_matrix._mul_vector\u001B[0;34m(self, other)\u001B[0m\n\u001B[1;32m    487\u001B[0m \u001B[38;5;66;03m# csr_matvec or csc_matvec\u001B[39;00m\n\u001B[1;32m    488\u001B[0m fn \u001B[38;5;241m=\u001B[39m \u001B[38;5;28mgetattr\u001B[39m(_sparsetools, \u001B[38;5;28mself\u001B[39m\u001B[38;5;241m.\u001B[39mformat \u001B[38;5;241m+\u001B[39m \u001B[38;5;124m'\u001B[39m\u001B[38;5;124m_matvec\u001B[39m\u001B[38;5;124m'\u001B[39m)\n\u001B[0;32m--> 489\u001B[0m \u001B[43mfn\u001B[49m\u001B[43m(\u001B[49m\u001B[43mM\u001B[49m\u001B[43m,\u001B[49m\u001B[43m \u001B[49m\u001B[43mN\u001B[49m\u001B[43m,\u001B[49m\u001B[43m \u001B[49m\u001B[38;5;28;43mself\u001B[39;49m\u001B[38;5;241;43m.\u001B[39;49m\u001B[43mindptr\u001B[49m\u001B[43m,\u001B[49m\u001B[43m \u001B[49m\u001B[38;5;28;43mself\u001B[39;49m\u001B[38;5;241;43m.\u001B[39;49m\u001B[43mindices\u001B[49m\u001B[43m,\u001B[49m\u001B[43m \u001B[49m\u001B[38;5;28;43mself\u001B[39;49m\u001B[38;5;241;43m.\u001B[39;49m\u001B[43mdata\u001B[49m\u001B[43m,\u001B[49m\u001B[43m \u001B[49m\u001B[43mother\u001B[49m\u001B[43m,\u001B[49m\u001B[43m \u001B[49m\u001B[43mresult\u001B[49m\u001B[43m)\u001B[49m\n\u001B[1;32m    491\u001B[0m \u001B[38;5;28;01mreturn\u001B[39;00m result\n",
      "\u001B[0;31mKeyboardInterrupt\u001B[0m: "
     ]
    }
   ],
   "source": [
    "norm.scran(adata)"
   ]
  },
  {
   "cell_type": "code",
   "execution_count": 6,
   "id": "4b1d18ea-23a4-493e-9821-3cac33189c46",
   "metadata": {},
   "outputs": [],
   "source": [
    "adata.write_h5ad(file_path.parent / (file_path.stem + '_normalized.h5ad'))"
   ]
  },
  {
   "cell_type": "code",
   "execution_count": null,
   "id": "2e8b921d-7634-488e-a1a2-0c40867fd850",
   "metadata": {},
   "outputs": [],
   "source": []
  }
 ],
 "metadata": {
  "kernelspec": {
   "display_name": "comp-methods",
   "language": "python",
   "name": "comp-methods-env"
  },
  "language_info": {
   "codemirror_mode": {
    "name": "ipython",
    "version": 3
   },
   "file_extension": ".py",
   "mimetype": "text/x-python",
   "name": "python",
   "nbconvert_exporter": "python",
   "pygments_lexer": "ipython3",
   "version": "3.10.6"
  }
 },
 "nbformat": 4,
 "nbformat_minor": 5
}
