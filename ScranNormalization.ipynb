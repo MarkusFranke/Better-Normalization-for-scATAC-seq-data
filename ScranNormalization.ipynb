{
 "cells": [
  {
   "cell_type": "code",
   "execution_count": 1,
   "id": "525e1f63",
   "metadata": {},
   "outputs": [],
   "source": [
    "#conda activate comp-methods3"
   ]
  },
  {
   "cell_type": "code",
   "execution_count": 12,
   "id": "d8bd2553",
   "metadata": {},
   "outputs": [],
   "source": [
    "#!pip install anndata\n",
    "#!pip install hdf5plugin\n",
    "#!pip install anndata2ri\n",
    "#!pip install rpy2\n",
    "#!pip install episcanpy"
   ]
  },
  {
   "cell_type": "code",
   "execution_count": 45,
   "id": "1be0ed49",
   "metadata": {},
   "outputs": [],
   "source": [
    "import anndata as ad\n",
    "import hdf5plugin\n",
    "\n",
    "# preprocessed data from the episcanpy tutorial\n",
    "adata = ad.read(\"Adata.h5ad\")"
   ]
  },
  {
   "cell_type": "code",
   "execution_count": 3,
   "id": "34aaad78",
   "metadata": {},
   "outputs": [],
   "source": [
    "import anndata2ri\n",
    "import logging\n",
    "from scipy.sparse import issparse\n",
    "\n",
    "import rpy2.rinterface_lib.callbacks as rcb\n",
    "import rpy2.robjects as ro\n",
    "\n",
    "rcb.logger.setLevel(logging.ERROR)\n",
    "ro.pandas2ri.activate()\n",
    "anndata2ri.activate()\n",
    "\n",
    "%reload_ext rpy2.ipython"
   ]
  },
  {
   "cell_type": "code",
   "execution_count": 33,
   "id": "18e76fd4",
   "metadata": {},
   "outputs": [],
   "source": [
    "import scipy\n",
    "\n",
    "data_mat = adata.X.T\n",
    "\n",
    "# convert to CSC if possible. See https://github.com/MarioniLab/scran/issues/70\n",
    "if scipy.sparse.issparse(data_mat):\n",
    "    if data_mat.nnz > 2**31 - 1:\n",
    "        data_mat = data_mat.tocoo()\n",
    "    else:\n",
    "        data_mat = data_mat.tocsc()\n",
    "ro.globalenv[\"data_mat\"] = data_mat\n",
    "ro.globalenv[\"input_groups\"] = adata_pp.obs[\"leiden\"]"
   ]
  },
  {
   "cell_type": "code",
   "execution_count": 34,
   "id": "cc702cf2",
   "metadata": {},
   "outputs": [],
   "source": [
    "%%R -i data_mat -o size_factors\n",
    "library(scran)\n",
    "library(BiocParallel)\n",
    "\n",
    "size_factors = sizeFactors(\n",
    "    computeSumFactors(\n",
    "        SingleCellExperiment(\n",
    "            list(counts=data_mat)), \n",
    "            clusters = input_groups,\n",
    "            min.mean = 0.1,\n",
    "            BPPARAM = MulticoreParam()\n",
    "    )\n",
    ")"
   ]
  },
  {
   "cell_type": "code",
   "execution_count": 40,
   "id": "52c0ce23",
   "metadata": {},
   "outputs": [],
   "source": [
    "from scipy.sparse import csr_matrix, issparse\n",
    "\n",
    "adata.obs[\"size_factors\"] = size_factors"
   ]
  },
  {
   "cell_type": "code",
   "execution_count": null,
   "id": "cce3259d",
   "metadata": {},
   "outputs": [],
   "source": [
    "scran = adata.X / adata.obs[\"size_factors\"].values[:, None]\n",
    "adata.layers[\"scran_normalization\"] = csr_matrix(epi.pp.log1p(scran))"
   ]
  },
  {
   "cell_type": "code",
   "execution_count": 41,
   "id": "6a9ef8cc",
   "metadata": {},
   "outputs": [],
   "source": [
    "adata.write_h5ad(\n",
    "    \"Normalized.h5ad\",\n",
    "    compression=hdf5plugin.FILTERS[\"zstd\"]\n",
    ")"
   ]
  },
  {
   "cell_type": "code",
   "execution_count": null,
   "id": "956b0c48",
   "metadata": {},
   "outputs": [],
   "source": [
    "A = adata.layers[\"scran_normalization\"]\n",
    "\n",
    "pd.DataFrame(A.toarray())"
   ]
  }
 ],
 "metadata": {
  "kernelspec": {
   "display_name": "Python 3 (ipykernel)",
   "language": "python",
   "name": "python3"
  },
  "language_info": {
   "codemirror_mode": {
    "name": "ipython",
    "version": 3
   },
   "file_extension": ".py",
   "mimetype": "text/x-python",
   "name": "python",
   "nbconvert_exporter": "python",
   "pygments_lexer": "ipython3",
   "version": "3.8.15"
  }
 },
 "nbformat": 4,
 "nbformat_minor": 5
}
