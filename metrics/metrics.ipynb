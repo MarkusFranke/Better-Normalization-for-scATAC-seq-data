{
 "cells": [
  {
   "cell_type": "markdown",
   "metadata": {},
   "source": [
    "### Compare metrics for library size normalization and unnormalized data"
   ]
  },
  {
   "cell_type": "code",
   "execution_count": 1,
   "metadata": {},
   "outputs": [
    {
     "name": "stderr",
     "output_type": "stream",
     "text": [
      "/Users/niklas/miniconda3/envs/comp-methods-env/lib/python3.8/site-packages/episcanpy/preprocessing/_quality_control.py:11: DeprecationWarning: Please use `pearsonr` from the `scipy.stats` namespace, the `scipy.stats.stats` namespace is deprecated.\n",
      "  from scipy.stats.stats import pearsonr, spearmanr\n",
      "/Users/niklas/miniconda3/envs/comp-methods-env/lib/python3.8/site-packages/episcanpy/preprocessing/_quality_control.py:11: DeprecationWarning: Please use `spearmanr` from the `scipy.stats` namespace, the `scipy.stats.stats` namespace is deprecated.\n",
      "  from scipy.stats.stats import pearsonr, spearmanr\n",
      "/Users/niklas/miniconda3/envs/comp-methods-env/lib/python3.8/site-packages/episcanpy/preprocessing/_correlation_components.py:12: DeprecationWarning: Please use `pearsonr` from the `scipy.stats` namespace, the `scipy.stats.stats` namespace is deprecated.\n",
      "  from scipy.stats.stats import pearsonr, spearmanr\n",
      "/Users/niklas/miniconda3/envs/comp-methods-env/lib/python3.8/site-packages/episcanpy/preprocessing/_correlation_components.py:12: DeprecationWarning: Please use `spearmanr` from the `scipy.stats` namespace, the `scipy.stats.stats` namespace is deprecated.\n",
      "  from scipy.stats.stats import pearsonr, spearmanr\n"
     ]
    }
   ],
   "source": [
    "from metrics import apply_metrics, ARI, Silhouette\n",
    "import anndata as ad\n",
    "import episcanpy as epi"
   ]
  },
  {
   "cell_type": "code",
   "execution_count": 2,
   "metadata": {},
   "outputs": [],
   "source": [
    "directory = \"../../data/\"\n",
    "filename = \"10x-ATAC-Brain5k_nonBinary_qc.h5ad\"\n",
    "adata = ad.read(directory + filename)"
   ]
  },
  {
   "cell_type": "code",
   "execution_count": 3,
   "metadata": {},
   "outputs": [],
   "source": [
    "adata_norm = adata.copy()\n",
    "epi.pp.normalize_total(adata_norm)\n",
    "adata_binary = adata.copy()\n",
    "epi.pp.binarize(adata_binary)\n",
    "adata_binary_norm = adata_binary.copy()\n",
    "epi.pp.normalize_total(adata_binary_norm)"
   ]
  },
  {
   "cell_type": "code",
   "execution_count": 4,
   "metadata": {},
   "outputs": [
    {
     "name": "stdout",
     "output_type": "stream",
     "text": [
      "PCA\n",
      "Nearest Neigbours\n",
      "UMAP\n",
      "resolution: 0.1, nmi: 0.5107562891928874\n",
      "resolution: 0.2, nmi: 0.5666444430648042\n",
      "resolution: 0.3, nmi: 0.5780776007583571\n",
      "resolution: 0.4, nmi: 0.5799886878249588\n",
      "resolution: 0.5, nmi: 0.5933580979624613\n",
      "resolution: 0.6, nmi: 0.5919655544512663\n",
      "resolution: 0.7, nmi: 0.5889709077995066\n",
      "resolution: 0.8, nmi: 0.5953464856415179\n",
      "resolution: 0.9, nmi: 0.5766993209073414\n",
      "resolution: 1.0, nmi: 0.5797251425632655\n",
      "resolution: 1.1, nmi: 0.5748469542888056\n",
      "resolution: 1.2, nmi: 0.5649981897740006\n",
      "resolution: 1.3, nmi: 0.5684836997424348\n",
      "resolution: 1.4, nmi: 0.5706867670420263\n",
      "resolution: 1.5, nmi: 0.5723147481704454\n",
      "resolution: 1.6, nmi: 0.559989443984819\n",
      "resolution: 1.7, nmi: 0.5676383838150169\n",
      "resolution: 1.8, nmi: 0.5730259887015677\n",
      "resolution: 1.9, nmi: 0.5587291031667321\n",
      "resolution: 2.0, nmi: 0.5574927078412212\n",
      "optimised clustering against cell_type\n",
      "optimal cluster resolution: 0.8\n",
      "optimal score: 0.5953464856415179\n",
      "PCA\n",
      "Nearest Neigbours\n",
      "UMAP\n",
      "resolution: 0.1, nmi: 0.5710558245097372\n",
      "resolution: 0.2, nmi: 0.649457750107387\n",
      "resolution: 0.3, nmi: 0.6487786034603973\n",
      "resolution: 0.4, nmi: 0.6663376546352457\n",
      "resolution: 0.5, nmi: 0.6796411561731498\n",
      "resolution: 0.6, nmi: 0.6717326846473498\n",
      "resolution: 0.7, nmi: 0.673867335290897\n",
      "resolution: 0.8, nmi: 0.6642219460211226\n",
      "resolution: 0.9, nmi: 0.661294641535145\n",
      "resolution: 1.0, nmi: 0.658748689813119\n",
      "resolution: 1.1, nmi: 0.6419844181571156\n",
      "resolution: 1.2, nmi: 0.6359532799934717\n",
      "resolution: 1.3, nmi: 0.635259133195682\n",
      "resolution: 1.4, nmi: 0.652659531221063\n",
      "resolution: 1.5, nmi: 0.6308458923762333\n",
      "resolution: 1.6, nmi: 0.6301727709936681\n",
      "resolution: 1.7, nmi: 0.6287322226215032\n",
      "resolution: 1.8, nmi: 0.6271904164220358\n",
      "resolution: 1.9, nmi: 0.627360750288794\n",
      "resolution: 2.0, nmi: 0.6217215933989084\n",
      "optimised clustering against cell_type\n",
      "optimal cluster resolution: 0.5\n",
      "optimal score: 0.6796411561731498\n",
      "PCA\n",
      "Nearest Neigbours\n",
      "UMAP\n",
      "resolution: 0.1, nmi: 0.5393601643813533\n",
      "resolution: 0.2, nmi: 0.6138981774322012\n",
      "resolution: 0.3, nmi: 0.6258437087517222\n",
      "resolution: 0.4, nmi: 0.5994388671398664\n",
      "resolution: 0.5, nmi: 0.6196633832829089\n",
      "resolution: 0.6, nmi: 0.6178535044095045\n",
      "resolution: 0.7, nmi: 0.6208074157001012\n",
      "resolution: 0.8, nmi: 0.6209078580706614\n",
      "resolution: 0.9, nmi: 0.6229561541820283\n",
      "resolution: 1.0, nmi: 0.6187618404087917\n",
      "resolution: 1.1, nmi: 0.6249757032017285\n",
      "resolution: 1.2, nmi: 0.6205922697262051\n",
      "resolution: 1.3, nmi: 0.6187453896473298\n",
      "resolution: 1.4, nmi: 0.6106349364417899\n",
      "resolution: 1.5, nmi: 0.6078905406674286\n",
      "resolution: 1.6, nmi: 0.6085596751716031\n",
      "resolution: 1.7, nmi: 0.6066438174064155\n",
      "resolution: 1.8, nmi: 0.599853898525591\n",
      "resolution: 1.9, nmi: 0.6071075247954957\n",
      "resolution: 2.0, nmi: 0.6037898520769461\n",
      "optimised clustering against cell_type\n",
      "optimal cluster resolution: 0.3\n",
      "optimal score: 0.6258437087517222\n",
      "PCA\n",
      "Nearest Neigbours\n",
      "UMAP\n",
      "resolution: 0.1, nmi: 0.64552787836364\n",
      "resolution: 0.2, nmi: 0.6653530382548714\n",
      "resolution: 0.3, nmi: 0.6688925205663602\n",
      "resolution: 0.4, nmi: 0.6653530382548714\n",
      "resolution: 0.5, nmi: 0.686807934093416\n",
      "resolution: 0.6, nmi: 0.6737460150558781\n",
      "resolution: 0.7, nmi: 0.6826815741156149\n",
      "resolution: 0.8, nmi: 0.6508099180082415\n",
      "resolution: 0.9, nmi: 0.6610951991739764\n",
      "resolution: 1.0, nmi: 0.6553881360203793\n",
      "resolution: 1.1, nmi: 0.6552287761075926\n",
      "resolution: 1.2, nmi: 0.6470777385272568\n",
      "resolution: 1.3, nmi: 0.6339287413627912\n",
      "resolution: 1.4, nmi: 0.6230999336789967\n",
      "resolution: 1.5, nmi: 0.6283016255973181\n",
      "resolution: 1.6, nmi: 0.6213675630543495\n",
      "resolution: 1.7, nmi: 0.622109654353344\n",
      "resolution: 1.8, nmi: 0.6193074007824398\n",
      "resolution: 1.9, nmi: 0.6162325426708628\n",
      "resolution: 2.0, nmi: 0.6178408305546866\n",
      "optimised clustering against cell_type\n",
      "optimal cluster resolution: 0.5\n",
      "optimal score: 0.686807934093416\n"
     ]
    },
    {
     "data": {
      "text/plain": [
       "defaultdict(list,\n",
       "            {'Average Silhouette Width': [0.4706972762942314,\n",
       "              0.5192658845335245,\n",
       "              0.4961398255545646,\n",
       "              0.5224641505628824],\n",
       "             'Adjusted Rand Index': [0.30773362365964185,\n",
       "              0.45924664438785934,\n",
       "              0.3674271379672861,\n",
       "              0.4647646387618924]})"
      ]
     },
     "execution_count": 4,
     "metadata": {},
     "output_type": "execute_result"
    }
   ],
   "source": [
    "apply_metrics([Silhouette(), ARI()], [adata, adata_norm, adata_binary, adata_binary_norm], \"cell_type\")"
   ]
  },
  {
   "cell_type": "code",
   "execution_count": null,
   "metadata": {},
   "outputs": [],
   "source": []
  }
 ],
 "metadata": {
  "kernelspec": {
   "display_name": "Python 3.8.13 ('comp-methods-env')",
   "language": "python",
   "name": "python3"
  },
  "language_info": {
   "codemirror_mode": {
    "name": "ipython",
    "version": 3
   },
   "file_extension": ".py",
   "mimetype": "text/x-python",
   "name": "python",
   "nbconvert_exporter": "python",
   "pygments_lexer": "ipython3",
   "version": "3.8.13"
  },
  "orig_nbformat": 4,
  "vscode": {
   "interpreter": {
    "hash": "446f8b0c80ac96e7b2dba328a21abbd02f3e7b3d770f28ca800e1c1c6b2dc7e2"
   }
  }
 },
 "nbformat": 4,
 "nbformat_minor": 2
}
